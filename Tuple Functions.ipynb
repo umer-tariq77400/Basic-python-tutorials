{
 "cells": [
  {
   "cell_type": "code",
   "execution_count": 1,
   "metadata": {},
   "outputs": [
    {
     "name": "stdout",
     "output_type": "stream",
     "text": [
      "('apple', 'banana', 'cherry', 'apple')\n",
      "('apple',)\n",
      "4\n"
     ]
    }
   ],
   "source": [
    "\"\"\"Tuple Items\n",
    "Tuple items are ordered, unchangeable, and allow duplicate values.\n",
    "\n",
    "Tuple items are indexed, the first item has index [0], the second item has index [1] etc.\"\"\"\n",
    "\n",
    "#Tuple can store any data type\n",
    "tuple1 = (\"bmw\", \"audi\", \"toyota\")\n",
    "tuple2 = (1, 5, 7, 9, 3)\n",
    "tuple3 = (True, False, False)\n",
    "\n",
    "#How to construct a tuple\n",
    "fruits = tuple((\"apple\", \"banana\", \"cherry\",\"apple\"))\n",
    "print(fruits)\n",
    "\n",
    "#How to create tuple from one item\n",
    "tuple4 = (\"apple\",)\n",
    "print(tuple4)\n",
    "\n",
    "#Tuple length\n",
    "print(len(fruits))"
   ]
  },
  {
   "cell_type": "code",
   "execution_count": 2,
   "metadata": {},
   "outputs": [
    {
     "data": {
      "text/plain": [
       "2"
      ]
     },
     "execution_count": 2,
     "metadata": {},
     "output_type": "execute_result"
    }
   ],
   "source": [
    "#Use count to count the number of times a value appears\n",
    "fruits.count(\"apple\")"
   ]
  },
  {
   "cell_type": "code",
   "execution_count": 3,
   "metadata": {},
   "outputs": [
    {
     "data": {
      "text/plain": [
       "0"
      ]
     },
     "execution_count": 3,
     "metadata": {},
     "output_type": "execute_result"
    }
   ],
   "source": [
    "#Use index() to find the index of an item\n",
    "fruits.index(\"apple\")  \n",
    "\n",
    "#It gives the index of the first occurance\n",
    "#If the item is not present, it gives an error"
   ]
  },
  {
   "cell_type": "markdown",
   "metadata": {},
   "source": [
    "Thankyou for sticking for this long, until next time, Allah Hafiz"
   ]
  }
 ],
 "metadata": {
  "kernelspec": {
   "display_name": ".venv",
   "language": "python",
   "name": "python3"
  },
  "language_info": {
   "codemirror_mode": {
    "name": "ipython",
    "version": 3
   },
   "file_extension": ".py",
   "mimetype": "text/x-python",
   "name": "python",
   "nbconvert_exporter": "python",
   "pygments_lexer": "ipython3",
   "version": "3.11.4"
  }
 },
 "nbformat": 4,
 "nbformat_minor": 2
}
