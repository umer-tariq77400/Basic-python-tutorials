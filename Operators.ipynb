{
 "cells": [
  {
   "cell_type": "markdown",
   "metadata": {},
   "source": [
    "Operators are special symbols that perform operations on variables and values.\n",
    "\n",
    "Here's a list of different types of Python operators that we will learn in this tutorial.\n",
    "\n",
    "1. Arithmetic operators\n",
    "2. Assignment Operators\n",
    "3. Comparison Operators\n",
    "4. Logical Operators\n",
    "5. Bitwise Operators\n",
    "6. Special Operators"
   ]
  },
  {
   "cell_type": "markdown",
   "metadata": {},
   "source": [
    "1. Python Arithmetic Operators\n",
    "\n",
    "Arithmetic operators are used to perform mathematical operations like addition, subtraction, multiplication, etc.\n",
    "\n",
    "+\n",
    "\n",
    "-\n",
    "\n",
    "*\n",
    "\n",
    "/\n",
    "\n",
    "**\n",
    "\n",
    "//"
   ]
  },
  {
   "cell_type": "code",
   "execution_count": 2,
   "metadata": {},
   "outputs": [
    {
     "name": "stdout",
     "output_type": "stream",
     "text": [
      "5\n",
      "5.85\n",
      "(5+1j)\n",
      "Hello, World!\n",
      "[1, 2, 3, 4, 5, 6]\n",
      "(1, 2, 3, 4, 5, 6)\n",
      "b'Hello World!'\n",
      "bytearray(b'Hello World!')\n"
     ]
    }
   ],
   "source": [
    "#Use additon(+) operator with different datatypes\n",
    "# Numeric Types\n",
    "print(2 + 3)  # Output: 5\n",
    "print(3.14 + 2.71)  # Output: 5.85\n",
    "print(2 + 3j + 3 - 2j)  # Output: (5+1j)\n",
    "\n",
    "# Sequence Types\n",
    "print('Hello, ' + 'World!')  # Output: Hello, World!\n",
    "print([1, 2, 3] + [4, 5, 6])  # Output: [1, 2, 3, 4, 5, 6]\n",
    "print((1, 2, 3) + (4, 5, 6))  # Output: (1, 2, 3, 4, 5, 6)\n",
    "\n",
    "# Binary Types\n",
    "print(b'Hello ' + b'World!')  # Output: b'Hello World!'\n",
    "print(bytearray(b'Hello ') + bytearray(b'World!'))  # Output: bytearray(b'Hello World!')\n"
   ]
  },
  {
   "cell_type": "code",
   "execution_count": 5,
   "metadata": {},
   "outputs": [
    {
     "name": "stdout",
     "output_type": "stream",
     "text": [
      "The result of 10 - 3 is: 7\n",
      "The result of 10.5 - 3.2 is: 7.3\n",
      "The result of (3+2j) - (1+1j) is: (2+1j)\n"
     ]
    }
   ],
   "source": [
    "#use subtration(-) operator with differetn datatypes\n",
    "\n",
    "# 1. With integers\n",
    "print(f\"The result of 10 - 3 is: {10 - 3}\")\n",
    "\n",
    "# 2. With floating point numbers\n",
    "print(f\"The result of 10.5 - 3.2 is: {10.5 - 3.2}\")\n",
    "\n",
    "# 3. With complex numbers\n",
    "print(f\"The result of (3+2j) - (1+1j) is: {(3+2j) - (1+1j)}\")\n",
    "\n",
    "#The - operator does not work with strings, lists, sets, tuples and dictionaries.\n",
    "#If you try it will raise an error\n"
   ]
  },
  {
   "cell_type": "code",
   "execution_count": 6,
   "metadata": {},
   "outputs": [
    {
     "name": "stdout",
     "output_type": "stream",
     "text": [
      "The result of 10 * 3 is: 30\n",
      "The result of 10.5 * 3.2 is: 33.6\n",
      "The result of (3+2j) * (1+1j) is: (1+5j)\n",
      "The result of 'abc' * 3 is: abcabcabc\n",
      "The result of [1, 2, 3] * 3 is: [1, 2, 3, 1, 2, 3, 1, 2, 3]\n"
     ]
    }
   ],
   "source": [
    "#Use multiplication(*) operator with different datatypes\n",
    "\n",
    "# 1. With integers\n",
    "print(f\"The result of 10 * 3 is: {10 * 3}\")\n",
    "\n",
    "# 2. With floating point numbers\n",
    "print(f\"The result of 10.5 * 3.2 is: {10.5 * 3.2}\")\n",
    "\n",
    "# 3. With complex numbers\n",
    "print(f\"The result of (3+2j) * (1+1j) is: {(3+2j) * (1+1j)}\")\n",
    "\n",
    "# 4. With strings and an integer\n",
    "print(f\"The result of 'abc' * 3 is: {'abc' * 3}\")\n",
    "\n",
    "# 5. With lists and an integer\n",
    "print(f\"The result of [1, 2, 3] * 3 is: {[1, 2, 3] * 3}\")\n",
    "\n",
    "# multiplication(*) operator also works on tuples just like lists \n",
    "# but it does not work on sets or dictionaries\n"
   ]
  },
  {
   "cell_type": "code",
   "execution_count": 7,
   "metadata": {},
   "outputs": [
    {
     "name": "stdout",
     "output_type": "stream",
     "text": [
      "The result of 10 / 3 is: 3.3333333333333335\n",
      "The result of 10.5 / 3.2 is: 3.28125\n",
      "The result of (3+2j) / (1+1j) is: (2.5-0.5j)\n"
     ]
    }
   ],
   "source": [
    "#Use division(/) operator with different datatypes\n",
    "\n",
    "# 1. With integers\n",
    "print(f\"The result of 10 / 3 is: {10 / 3}\")\n",
    "\n",
    "# 2. With floating point numbers\n",
    "print(f\"The result of 10.5 / 3.2 is: {10.5 / 3.2}\")\n",
    "\n",
    "# 3. With complex numbers\n",
    "print(f\"The result of (3+2j) / (1+1j) is: {(3+2j) / (1+1j)}\")\n",
    "\n",
    "# Division(/) operator does not work with strings, lists, sets, tuples and dictionaries.\n",
    "# If you try it will raise an error"
   ]
  },
  {
   "cell_type": "code",
   "execution_count": 4,
   "metadata": {},
   "outputs": [
    {
     "name": "stdout",
     "output_type": "stream",
     "text": [
      "The result of 10 % 3 is: 1\n",
      "The result of 10.5 % 3.2 is: 0.8999999999999995\n",
      "Hello, World\n"
     ]
    }
   ],
   "source": [
    "#Use modulus operator(%) with different datatypes\n",
    "\n",
    "# 1. With integers\n",
    "print(f\"The result of 10 % 3 is: {10 % 3}\")\n",
    "\n",
    "# 2. With floating point numbers\n",
    "print(f\"The result of 10.5 % 3.2 is: {10.5 % 3.2}\")\n",
    "\n",
    "# 3. With strings(used not for calculations but for formatting)\n",
    "print(\"Hello, %s\" % \"World\")\n",
    "\n",
    "# Modulus(%) operator does not work with compleax numbers, lists, sets, tuples and dictionaries\n",
    "# If you try it will raise an error\n",
    "\n"
   ]
  },
  {
   "cell_type": "code",
   "execution_count": 5,
   "metadata": {},
   "outputs": [
    {
     "name": "stdout",
     "output_type": "stream",
     "text": [
      "The result of 2 ** 3 is: 8\n",
      "The result of 2.5 ** 3.5 is: 24.705294220065465\n",
      "The result of (3+2j) ** (1+1j) is: (-0.5912135705333044+1.913394817119845j)\n"
     ]
    }
   ],
   "source": [
    "#Use exponent( ** ) operator with different datatypes\n",
    "\n",
    "# 1. With integers\n",
    "print(f\"The result of 2 ** 3 is: {2 ** 3}\")\n",
    "\n",
    "# 2. With floating point numbers\n",
    "print(f\"The result of 2.5 ** 3.5 is: {2.5 ** 3.5}\")\n",
    "\n",
    "#When used with two complex numbers, it performs the exponentiation of those complex numbers.\n",
    "print(f\"The result of (3+2j) ** (1+1j) is: {(3+2j) ** (1+1j)}\")\n",
    "\n",
    "# Exponent( ** ) operator does not work with strings, lists, sets, tuples and dictionaries\n",
    "# If you try it will raise an error\n"
   ]
  },
  {
   "cell_type": "code",
   "execution_count": null,
   "metadata": {},
   "outputs": [],
   "source": [
    "#use floor division(//) operator with different datatypes\n",
    " \n",
    "# 1. With integers\n",
    "print(f\"The result of 10 // 3 is: {10 // 3}\")\n",
    "\n",
    "# 2. With floating point numbers\n",
    "print(f\"The result of 10.5 // 3.2 is: {10.5 // 3.2}\")\n",
    "\n",
    "# Floor division(//) operator does not work with complex numbers, strings, lists, sets, tuples and dictionaries\n",
    "# If you try it will raise an error"
   ]
  },
  {
   "cell_type": "markdown",
   "metadata": {},
   "source": [
    "2. Assignment operators\n",
    "\n",
    "Assignment operators are used to assign values to variables.\n",
    "\n",
    "=\n",
    "\n",
    "+=\n",
    "\n",
    "-=\n",
    "\n",
    "*=\n",
    "\n",
    "/= ETC."
   ]
  },
  {
   "cell_type": "code",
   "execution_count": 6,
   "metadata": {},
   "outputs": [
    {
     "name": "stdout",
     "output_type": "stream",
     "text": [
      "x = 5\n",
      "x += 3 results in x = 8\n",
      "x -= 2 results in x = 6\n",
      "x *= 4 results in x = 24\n",
      "x /= 2 results in x = 12.0\n",
      "x **= 3 results in x = 1728.0\n",
      "x //= 3 results in x = 576.0\n",
      "x %= 3 results in x = 0.0\n"
     ]
    }
   ],
   "source": [
    "#Use assignment operarators \n",
    "\n",
    "# Assigning a value to a variable\n",
    "x = 5\n",
    "print(f\"x = {x}\")\n",
    "\n",
    "# Adding a value to a variable\n",
    "x += 3  # equivalent to x = x + 3\n",
    "print(f\"x += 3 results in x = {x}\")\n",
    "\n",
    "# Subtracting a value from a variable\n",
    "x -= 2  # equivalent to x = x - 2\n",
    "print(f\"x -= 2 results in x = {x}\")\n",
    "\n",
    "# Multiplying a variable by a value\n",
    "x *= 4  # equivalent to x = x * 4\n",
    "print(f\"x *= 4 results in x = {x}\")\n",
    "\n",
    "# Dividing a variable by a value\n",
    "x /= 2  # equivalent to x = x / 2\n",
    "print(f\"x /= 2 results in x = {x}\")\n",
    "\n",
    "# Raising a variable to the power of a value\n",
    "x **= 3  # equivalent to x = x ** 3\n",
    "print(f\"x **= 3 results in x = {x}\")\n",
    "\n",
    "# Performing floor division on a variable by a value\n",
    "x //= 3  # equivalent to x = x // 3\n",
    "print(f\"x //= 3 results in x = {x}\")\n",
    "\n",
    "# Calculating the modulus of a variable by a value\n",
    "x %= 3  # equivalent to x = x % 3\n",
    "print(f\"x %= 3 results in x = {x}\")\n",
    "\n",
    "# These are some main operators which can be used with different datatypes\n",
    "# you can try others like &=, |=, ^=, <<=, >>=, >>=, etc.\n"
   ]
  },
  {
   "cell_type": "markdown",
   "metadata": {},
   "source": [
    "3. Comperison operators\n",
    "\n",
    "Comparison operators are used to compare two values\n",
    "\n",
    "Their output is in the form of boolean values(True or False)\n",
    "\n",
    "==\n",
    "\n",
    "\\>\n",
    "\n",
    "<\n",
    "\n",
    "\\>=\n",
    "\n",
    "<="
   ]
  },
  {
   "cell_type": "code",
   "execution_count": 11,
   "metadata": {},
   "outputs": [
    {
     "name": "stdout",
     "output_type": "stream",
     "text": [
      "10 == 10 results in True\n",
      "10.5 == 10.5 results in True\n",
      "(3+2j) == (3+2j) results in True\n",
      "'abc' == 'abc' results in True\n",
      "[1, 2, 3] == [1, 2, 3] results in True\n",
      "(1, 2, 3) == (1, 2, 3) results in True\n",
      "{1, 2, 3} == {1, 2, 3} results in True\n",
      "True\n"
     ]
    }
   ],
   "source": [
    "#Use == operator with different datatypes\n",
    "\n",
    "# With integers\n",
    "print(f\"10 == 10 results in {10 == 10}\")\n",
    "\n",
    "# With floating point numbers\n",
    "print(f\"10.5 == 10.5 results in {10.5 == 10.5}\")\n",
    "\n",
    "# With complex numbers\n",
    "print(f\"(3+2j) == (3+2j) results in {(3+2j) == (3+2j)}\")\n",
    "\n",
    "# With strings\n",
    "print(f\"'abc' == 'abc' results in {'abc' == 'abc'}\")\n",
    "\n",
    "# With lists\n",
    "print(f\"[1, 2, 3] == [1, 2, 3] results in {[1, 2, 3] == [1, 2, 3]}\")\n",
    "\n",
    "# With tuples\n",
    "print(f\"(1, 2, 3) == (1, 2, 3) results in {(1, 2, 3) == (1, 2, 3)}\")\n",
    "\n",
    "# With sets\n",
    "print(f\"{set([1, 2, 3])} == {set([1, 2, 3])} results in {set([1, 2, 3]) == set([1, 2, 3])}\")\n",
    "\n",
    "# With dictionaries\n",
    "print({'a': 1, 'b': 2} == {'a': 1, 'b': 2})\n",
    "\n",
    "#you can use not equalto(!=) instead of != operator on the place of equalto(==), it just works the oposite way"
   ]
  },
  {
   "cell_type": "code",
   "execution_count": 14,
   "metadata": {},
   "outputs": [
    {
     "name": "stdout",
     "output_type": "stream",
     "text": [
      "10 > 3 results in True\n",
      "2.5 > 3.5 results in False\n",
      "'abc' > 'abd' results in False\n",
      "[1, 2, 3] > [1, 2, 4] results in False\n",
      "(1, 2, 3) > (1, 2, 4) results in False\n"
     ]
    }
   ],
   "source": [
    "# Use greater than(>) operator with different datatypes\n",
    "\n",
    "# With integers\n",
    "print(f\"10 > 3 results in {10 > 3}\")\n",
    "# With floating point numbers\n",
    "print(f\"2.5 > 3.5 results in {2.5 > 3.5}\")\n",
    "\n",
    "# With strings\n",
    "print(f\"'abc' > 'abd' results in {'abc' > 'abd'}\")\n",
    "# in the case of strings it does not checks the lenght of the string \n",
    "# but it checks the ASCII value of the characters\n",
    "\n",
    "# With lists\n",
    "print(f\"[1, 2, 3] > [1, 2, 4] results in {[1, 2, 3] > [1, 2, 4]}\")\n",
    "# With tuples\n",
    "print(f\"(1, 2, 3) > (1, 2, 4) results in {(1, 2, 3) > (1, 2, 4)}\")\n",
    "#In the case of lists and tuples it checks each item in the list and tuple individually\n",
    "#if it find any difference in the values it returns its output(True or  flase)\n",
    "\n",
    "   #But what if both the list or tuple being compared are empty?\n",
    "#In that case it will return True Because both the lists or tuples are of equal lenghts\n",
    "\n",
    "   #And what if both the lists or tuples being compared are of differetn lenghts?\n",
    "#In Python, when comparing lists or tuples of different lengths, \n",
    "#the comparison is done element by element starting from the first element. \n",
    "#If a pair of elements differs, then the comparison of the entire lists/tuples is determined by the \n",
    "#comparison of the differing elements. If all elements are equal up to the shorter length, \n",
    "#then the longer list/tuple is considered larger.\n",
    "\n",
    "\n",
    "# You can use <, <= or >= operator with different datatypes just by changing them in these examples above\n",
    "# They work the same way\n",
    "# Smaller then (<) operator check if the left operand is smaller than the right operand\n",
    "# Smaller or equal to(<=) operator check if the left operand is smaller than or equal to the right operand\n",
    "# Greater than(>) operator check if the left operand is greater than the right operand\n",
    "\n"
   ]
  },
  {
   "cell_type": "markdown",
   "metadata": {},
   "source": [
    "4.Logical operators\n",
    "\n",
    "Logical operators are used to combine conditional statements(True or False)\n",
    "\n",
    "AND\n",
    "\n",
    "OR \n",
    "\n",
    "NOT"
   ]
  },
  {
   "cell_type": "code",
   "execution_count": null,
   "metadata": {},
   "outputs": [],
   "source": [
    "#Use logical operators\n",
    "\n",
    "# Using 'and' operator\n",
    "# Gives True if both the operands are True\n",
    "print(f\"(10 > 5) and (20 > 10) results in {(10 > 5) and (20 > 10)}\")  # Returns True\n",
    "\n",
    "# Using 'or' operator\n",
    "# Gives True if either of the operands is True\n",
    "print(f\"(10 > 5) or (5 > 10) results in {(10 > 5) or (5 > 10)}\")  # Returns True\n",
    "\n",
    "# Using 'not' operator\n",
    "# Gives the opposite of the operand\n",
    "print(f\"not(10 > 5) results in {not(10 > 5)}\")  # Returns False\n"
   ]
  },
  {
   "cell_type": "markdown",
   "metadata": {},
   "source": [
    "5. identity operator\n",
    "\n",
    "Identity operators are used to compare the objects, not if they are equal, but if they are actually the same object, with the same memory location\n",
    "\n",
    "is \n",
    "\n",
    "not is\n"
   ]
  },
  {
   "cell_type": "code",
   "execution_count": 19,
   "metadata": {},
   "outputs": [
    {
     "name": "stdout",
     "output_type": "stream",
     "text": [
      "x is y results in False\n",
      "y is z results in True\n",
      "z is x results in True\n",
      "\n",
      "\n",
      "x is not y results in True\n",
      "y is not z results in False\n",
      "z is not x results in False\n"
     ]
    }
   ],
   "source": [
    "#Use identity operators to show the difference between (==/is) operators and (!=/is not) operators\n",
    "\n",
    "# Define two variables with the same value\n",
    "x = [10, 20, 30]\n",
    "y = [10, 20, 30]\n",
    "\n",
    "# Define a variable that refers to the same object as x\n",
    "z = x\n",
    "\n",
    "# Using 'is' and '==' operator\n",
    "print(f\"x is y results in {x is y}\")  \n",
    "print(f\"y is z results in {y == z}\")  \n",
    "print(f\"z is x results in {z is x}\")  \n",
    "\n",
    "print('\\n')\n",
    "# Using 'is not' and '!=' operator\n",
    "print(f\"x is not y results in {x is not y}\")  \n",
    "print(f\"y is not z results in {y != z}\") \n",
    "print(f\"z is not x results in {z is not x}\")  \n"
   ]
  },
  {
   "cell_type": "markdown",
   "metadata": {},
   "source": [
    "6. Membership operators\n",
    "\n",
    "Membership operators are used to test if a sequence is presented in an object\n",
    "\n",
    "in \n",
    "\n",
    "not in"
   ]
  },
  {
   "cell_type": "code",
   "execution_count": 20,
   "metadata": {},
   "outputs": [
    {
     "name": "stdout",
     "output_type": "stream",
     "text": [
      "10 in my_list results in True\n",
      "60 not in my_list results in True\n"
     ]
    }
   ],
   "source": [
    "#use membership operstors(in, not in)\n",
    "\n",
    "# Define a list(or any iterable)\n",
    "my_list = [10, 20, 30, 40, 50]\n",
    "\n",
    "# Using 'in' operator\n",
    "print(f\"10 in my_list results in {10 in my_list}\")  \n",
    "\n",
    "# Using 'not in' operator\n",
    "print(f\"60 not in my_list results in {60 not in my_list}\") \n"
   ]
  },
  {
   "cell_type": "markdown",
   "metadata": {},
   "source": [
    "7. Bitwise operator\n",
    "\n",
    "Bitwise operators are used to compare (binary) numbers\n",
    "\n",
    "& (AND)\n",
    "\n",
    "| (OR)\n",
    "\n",
    "^ (XOR)\n",
    "\n",
    "~ (NOT) \n",
    "\n",
    "<< (Zero fill left shift)\n",
    "\n",
    "\\>>\t(Signed right shift)\n",
    "\n"
   ]
  },
  {
   "cell_type": "code",
   "execution_count": 21,
   "metadata": {},
   "outputs": [
    {
     "name": "stdout",
     "output_type": "stream",
     "text": [
      "10 & 7 results in 2\n",
      "10 | 7 results in 15\n",
      "10 ^ 7 results in 13\n",
      "~10 results in -11\n",
      "10 << 2 results in 40\n",
      "10 >> 2 results in 2\n"
     ]
    }
   ],
   "source": [
    "#Use bitwise opeartors\n",
    "\n",
    "# Bitwise AND\n",
    "print(f\"10 & 7 results in {10 & 7}\") \n",
    "\n",
    "# Bitwise OR\n",
    "print(f\"10 | 7 results in {10 | 7}\")  \n",
    "\n",
    "# Bitwise XOR\n",
    "print(f\"10 ^ 7 results in {10 ^ 7}\") \n",
    "\n",
    "# Bitwise NOT\n",
    "print(f\"~10 results in {~10}\")  \n",
    "\n",
    "# Bitwise left shift\n",
    "print(f\"10 << 2 results in {10 << 2}\") \n",
    "\n",
    "# Bitwise right shift\n",
    "print(f\"10 >> 2 results in {10 >> 2}\")  \n",
    "\n",
    "# To understand the bitwise operators, first you need to understand the binary numbers\n"
   ]
  },
  {
   "cell_type": "markdown",
   "metadata": {},
   "source": [
    "Operator Precedence\n",
    "\n",
    "Operator precedence describes the order in which operations are performed.\n",
    "\n",
    "The precedence order is described below, starting with the highest precedence at the top:\n",
    "\n",
    "()  \t(Parentheses)\t\n",
    "\n",
    "**\t (Exponentiation)\t\n",
    "\n",
    "+x  -x  ~x\t (Unary plus, unary minus, and bitwise NOT)\t\n",
    "\n",
    "\\*  /  //  %\t (Multiplication, division, floor division, and modulus)\t\n",
    "\n",
    "\\+  -  \t(Addition and subtraction)\t\n",
    "\n",
    "<<  >>\t (Bitwise left and right shifts)\t\n",
    "\n",
    "&\t (Bitwise AND)\t\n",
    "\n",
    "^\t (Bitwise XOR)\t\n",
    "\n",
    "|\t (Bitwise OR\t)\n",
    "\n",
    "==  !=  >  >=  <  <=  is  is not  in  not in \t  (Comparisons, identity, and membership operators)\t\n",
    "\n",
    "not\t  (Logical NOT)\t\n",
    "\n",
    "and\t  (AND)\t\n",
    "\n",
    "or\t  (OR)\t\n",
    "\n",
    "If two operators have the same precedence, the expression is evaluated from left to right."
   ]
  }
 ],
 "metadata": {
  "kernelspec": {
   "display_name": ".venv",
   "language": "python",
   "name": "python3"
  },
  "language_info": {
   "codemirror_mode": {
    "name": "ipython",
    "version": 3
   },
   "file_extension": ".py",
   "mimetype": "text/x-python",
   "name": "python",
   "nbconvert_exporter": "python",
   "pygments_lexer": "ipython3",
   "version": "3.11.4"
  }
 },
 "nbformat": 4,
 "nbformat_minor": 2
}
