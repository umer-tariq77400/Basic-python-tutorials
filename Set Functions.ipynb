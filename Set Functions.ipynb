{
 "cells": [
  {
   "cell_type": "code",
   "execution_count": 31,
   "metadata": {},
   "outputs": [
    {
     "name": "stdout",
     "output_type": "stream",
     "text": [
      "{'banana', 'cherry', 'apple'}\n",
      "3\n"
     ]
    }
   ],
   "source": [
    "\"\"\"Set Items\n",
    "Set items are unordered, unchangeable, and do not allow duplicate values.\n",
    "\n",
    "Note: The values True and 1 are considered the same value in sets, and are treated as duplicates \n",
    "And the values False and 0 are considered the same value in sets, and are treated as duplicates\n",
    "\"\"\"\n",
    "#Set can store items of any data type\n",
    "fruits2 = {\"apple\", \"banana\", \"cherry\",\"pineapple\"}\n",
    "numbers = {1, 5, 7, 9, 3, 3, 1}\n",
    "boolean = {True, False, False}\n",
    "\n",
    "#How to construct a set\n",
    "fruits = set((\"apple\", \"banana\", \"cherry\"))\n",
    "print(fruits)\n",
    "\n",
    "#finding the lenght of the set\n",
    "print(len(fruits))"
   ]
  },
  {
   "cell_type": "code",
   "execution_count": 32,
   "metadata": {},
   "outputs": [
    {
     "name": "stdout",
     "output_type": "stream",
     "text": [
      "{'banana', 'cherry', 'orange', 'apple'}\n",
      "{'banana', 'cherry', 'orange', 'apple'}\n"
     ]
    }
   ],
   "source": [
    "#Use add() to add an item in the Set\n",
    "fruits.add(\"orange\")\n",
    "print(fruits)\n",
    "\n",
    "\"\"\"The add() method adds an element to the set.\n",
    "\n",
    "If the element already exists, the add() method does not add the element.\"\"\"\n",
    "\n",
    "fruits.add(\"cherry\")\n",
    "print(fruits)"
   ]
  },
  {
   "cell_type": "code",
   "execution_count": 33,
   "metadata": {},
   "outputs": [
    {
     "name": "stdout",
     "output_type": "stream",
     "text": [
      "{'banana', 'cherry', 'orange', 'apple'}\n"
     ]
    },
    {
     "data": {
      "text/plain": [
       "'The copy() method copies the set.'"
      ]
     },
     "execution_count": 33,
     "metadata": {},
     "output_type": "execute_result"
    }
   ],
   "source": [
    "#Use copy() to copy a Set\n",
    "\n",
    "fruits_copy = fruits.copy()\n",
    "print(fruits_copy)\n",
    "\n",
    "\"\"\"The copy() method copies the set.\"\"\""
   ]
  },
  {
   "cell_type": "code",
   "execution_count": 34,
   "metadata": {},
   "outputs": [
    {
     "name": "stdout",
     "output_type": "stream",
     "text": [
      "set()\n"
     ]
    },
    {
     "data": {
      "text/plain": [
       "'The clear() method removes all elements in a set.'"
      ]
     },
     "execution_count": 34,
     "metadata": {},
     "output_type": "execute_result"
    }
   ],
   "source": [
    "#Use clear() to remove all items from a set\n",
    "\n",
    "fruits_copy.clear()\n",
    "print(fruits_copy)\n",
    "\n",
    "\"\"\"The clear() method removes all elements in a set.\"\"\""
   ]
  },
  {
   "cell_type": "code",
   "execution_count": 35,
   "metadata": {},
   "outputs": [
    {
     "name": "stdout",
     "output_type": "stream",
     "text": [
      "{'orange'}\n",
      "{'orange'}\n"
     ]
    }
   ],
   "source": [
    "#Use difference() to return a set containing the difference between two or more sets\n",
    "print(fruits.difference(fruits2))\n",
    "\n",
    "\"\"\"The difference() method returns a set that contains the difference between two sets.\n",
    "\n",
    "Meaning: The returned set contains items that exist only in the first set, and not in both sets.\"\"\"\n",
    "\n",
    "#It can take multiple sets as arguments\n",
    "print(fruits.difference(fruits2, numbers))"
   ]
  },
  {
   "cell_type": "code",
   "execution_count": 36,
   "metadata": {},
   "outputs": [
    {
     "name": "stdout",
     "output_type": "stream",
     "text": [
      "None\n",
      "{'orange'}\n"
     ]
    },
    {
     "data": {
      "text/plain": [
       "'The difference_update() method removes the items that exist in both sets.\\n\\nThe difference_update() method is different from the difference() method,\\n    because the difference() method returns a new set, without the unwanted items, \\n    and the difference_update() method removes the unwanted items from the original set.'"
      ]
     },
     "execution_count": 36,
     "metadata": {},
     "output_type": "execute_result"
    }
   ],
   "source": [
    "#Use difference_update to remove the items in this set that are also included in another set\n",
    "\n",
    "remaining_fruits = fruits.difference_update(fruits2)\n",
    "print(remaining_fruits)\n",
    "\n",
    "#The difference_update() does not returns a new set, but it removes the unwanted items from the original set\n",
    "#Thats why we get None\n",
    "\n",
    "#To get the new set we can normally print fruits\n",
    "print(fruits)\n",
    "\n",
    "\n",
    "\"\"\"The difference_update() method removes the items that exist in both sets.\n",
    "\n",
    "The difference_update() method is different from the difference() method,\n",
    "    because the difference() method returns a new set, without the unwanted items, \n",
    "    and the difference_update() method removes the unwanted items from the original set.\"\"\"\n"
   ]
  },
  {
   "cell_type": "code",
   "execution_count": 37,
   "metadata": {},
   "outputs": [
    {
     "name": "stdout",
     "output_type": "stream",
     "text": [
      "{'banana', 'cherry', 'orange'}\n"
     ]
    },
    {
     "data": {
      "text/plain": [
       "'The discard() method removes the specified item from the set.\\n\\nThis method is different from the remove() method, \\n   because the remove() method will raise an error if the specified item does not exist, and the discard() method will not.'"
      ]
     },
     "execution_count": 37,
     "metadata": {},
     "output_type": "execute_result"
    }
   ],
   "source": [
    "#Getting our set items back\n",
    "fruits.add(\"apple\")\n",
    "fruits.add(\"banana\")\n",
    "fruits.add(\"cherry\")\n",
    "\n",
    "#Use dicard() to remove an item from a set\n",
    "fruits.discard(\"apple\")\n",
    "print(fruits)\n",
    "\n",
    "\"\"\"The discard() method removes the specified item from the set.\n",
    "\n",
    "This method is different from the remove() method, \n",
    "   because the remove() method will raise an error if the specified item does not exist, and the discard() method will not.\"\"\"\n"
   ]
  },
  {
   "cell_type": "code",
   "execution_count": 38,
   "metadata": {},
   "outputs": [
    {
     "name": "stdout",
     "output_type": "stream",
     "text": [
      "{'banana', 'cherry'}\n",
      "set()\n"
     ]
    }
   ],
   "source": [
    "#Use intersection() to get items that exist in both sets\n",
    "print(fruits.intersection(fruits2))\n",
    "\n",
    "\"\"\"The intersection() method returns a set that contains the similarity between two or more sets.\n",
    "\n",
    "Meaning: The returned set contains only items that exist in both sets, \n",
    "   or in all sets if the comparison is done with more than two sets.\"\"\"\n",
    "\n",
    "#It can take multiple sets as arguments\n",
    "print(fruits.intersection(fruits2, numbers))\n"
   ]
  },
  {
   "cell_type": "code",
   "execution_count": 39,
   "metadata": {},
   "outputs": [
    {
     "name": "stdout",
     "output_type": "stream",
     "text": [
      "{False, True}\n",
      "{True}\n"
     ]
    }
   ],
   "source": [
    "#Use intersection_update to keep only items that exist in both sets\n",
    "\n",
    "boolean.intersection_update(boolean)\n",
    "print(boolean)\n",
    "\n",
    "\"\"\"\n",
    "The intersection_update() method removes the items that is not present in both sets \n",
    "   (or in all sets if the comparison is done between more than two sets).\n",
    "\n",
    "The intersection_update() method is different from the intersection() method, \n",
    "    because the intersection() method returns a new set, without the unwanted items,\n",
    "    and the intersection_update() method removes the unwanted items from the original set.\n",
    "\"\"\"\n",
    "boolean.intersection_update(numbers)\n",
    "print(boolean)\n",
    "#As True and 1 are considered the same values in sets, they are treated as duplicates\n",
    "\n",
    "\n"
   ]
  },
  {
   "cell_type": "code",
   "execution_count": 40,
   "metadata": {},
   "outputs": [
    {
     "name": "stdout",
     "output_type": "stream",
     "text": [
      "{1, 3, 5, 7, 9}\n",
      "{1, 5, 7, 9}\n"
     ]
    }
   ],
   "source": [
    "#Use remove() to remove an item from a set\n",
    "print(numbers)\n",
    "numbers.remove(3)\n",
    "print(numbers)\n",
    "\n",
    "#Removes the specified element from the set"
   ]
  },
  {
   "cell_type": "code",
   "execution_count": 41,
   "metadata": {},
   "outputs": [
    {
     "data": {
      "text/plain": [
       "1"
      ]
     },
     "execution_count": 41,
     "metadata": {},
     "output_type": "execute_result"
    }
   ],
   "source": [
    "#Use pop() to remove an item from a set\n",
    "numbers.pop()\n",
    "\n",
    "#Removes an arbitrary item from the set\n",
    "\n"
   ]
  },
  {
   "cell_type": "code",
   "execution_count": 42,
   "metadata": {},
   "outputs": [
    {
     "name": "stdout",
     "output_type": "stream",
     "text": [
      "{'cherry', 5, 7, 'banana', 9, 'orange'}\n"
     ]
    },
    {
     "data": {
      "text/plain": [
       "'\\nThe union() method returns a set that contains all items from the original set,\\n    and all items from the specified set(s).\\n\\nYou can specify as many sets you want, separated by commas.\\n\\nIt does not have to be a set, it can be any iterable object.\\n\\nIf an item is present in more than one set, the result will contain only one appearance of this item.\\n'"
      ]
     },
     "execution_count": 42,
     "metadata": {},
     "output_type": "execute_result"
    }
   ],
   "source": [
    "#Use union() to return a set containing the union of sets\n",
    "\n",
    "print(fruits.union(numbers))\n",
    "\n",
    "\"\"\"\n",
    "The union() method returns a set that contains all items from the original set,\n",
    "    and all items from the specified set(s).\n",
    "\n",
    "You can specify as many sets you want, separated by commas.\n",
    "\n",
    "It does not have to be a set, it can be any iterable object.\n",
    "\n",
    "If an item is present in more than one set, the result will contain only one appearance of this item.\n",
    "\"\"\"\n"
   ]
  },
  {
   "cell_type": "code",
   "execution_count": 43,
   "metadata": {},
   "outputs": [
    {
     "name": "stdout",
     "output_type": "stream",
     "text": [
      "{5, 7, 9}\n",
      "{5, 'cherry', 7, 'banana', 9, 'orange'}\n"
     ]
    },
    {
     "data": {
      "text/plain": [
       "'The update() method updates the current set, by adding items from another set (or any other iterable).\\n\\nIf an item is present in both sets, only one appearance of this item will be present in the updated set.'"
      ]
     },
     "execution_count": 43,
     "metadata": {},
     "output_type": "execute_result"
    }
   ],
   "source": [
    "#Use update() to update a set with the union of itself and other iterable\n",
    "print(numbers)\n",
    "numbers.update(fruits)\n",
    "print(numbers)\n",
    "\n",
    "\"\"\"The update() method updates the current set, by adding items from another set (or any other iterable).\n",
    "\n",
    "If an item is present in both sets, only one appearance of this item will be present in the updated set.\"\"\""
   ]
  },
  {
   "cell_type": "code",
   "execution_count": 44,
   "metadata": {},
   "outputs": [
    {
     "name": "stdout",
     "output_type": "stream",
     "text": [
      "{'banana', 'cherry', 'orange'}\n",
      "{'banana', 'cherry', 'pineapple', 'apple'}\n",
      "{'orange', 'pineapple', 'apple'}\n"
     ]
    }
   ],
   "source": [
    "#Use symmetric_difference() to get the symmetric difference of two sets\n",
    "print(fruits)\n",
    "print(fruits2)\n",
    "\n",
    "\"\"\"\n",
    "The symmetric_difference() method returns a set that contains all items from both set,\n",
    "    but not the items that are present in both sets.\n",
    "\n",
    "Meaning: The returned set contains a mix of items that are not present in both sets.\"\"\"\n",
    "print(fruits.symmetric_difference(fruits2))"
   ]
  },
  {
   "cell_type": "code",
   "execution_count": 45,
   "metadata": {},
   "outputs": [
    {
     "name": "stdout",
     "output_type": "stream",
     "text": [
      "{5, 'cherry', 7, 'banana', 9, 'orange'}\n"
     ]
    },
    {
     "data": {
      "text/plain": [
       "'\\nThe symmetric_difference_update() method updates the original set by removing items \\n    that are present in both sets, and inserting the other items.'"
      ]
     },
     "execution_count": 45,
     "metadata": {},
     "output_type": "execute_result"
    }
   ],
   "source": [
    "#Adding 1 in numbers set for using it in example\n",
    "numbers.add(1)\n",
    "\n",
    "#Use symmetric_difference_update() to keep only the elements that are NOT present in both sets\n",
    "\n",
    "numbers.symmetric_difference_update(boolean)\n",
    "print(numbers)\n",
    "\n",
    "\"\"\"\n",
    "The symmetric_difference_update() method updates the original set by removing items \n",
    "    that are present in both sets, and inserting the other items.\"\"\"\n"
   ]
  },
  {
   "cell_type": "code",
   "execution_count": 46,
   "metadata": {},
   "outputs": [
    {
     "name": "stdout",
     "output_type": "stream",
     "text": [
      "{'banana', 'cherry', 'orange'}\n",
      "{'banana', 'cherry', 'pineapple', 'apple'}\n",
      "False\n",
      "True\n"
     ]
    }
   ],
   "source": [
    "#Use isdisjoint() to check if two sets have no items in common\n",
    "print(fruits)\n",
    "print(fruits2)\n",
    "print(fruits.isdisjoint(fruits2))\n",
    "#If even one item is in common the result will be False\n",
    "\n",
    "print(fruits.isdisjoint(boolean))"
   ]
  },
  {
   "cell_type": "code",
   "execution_count": 47,
   "metadata": {},
   "outputs": [
    {
     "name": "stdout",
     "output_type": "stream",
     "text": [
      "{'banana', 'cherry', 'orange'}\n",
      "{'banana', 'cherry', 'pineapple', 'apple'}\n",
      "{'banana', 'cherry', 'pineapple', 'apple'}\n",
      "False\n",
      "True\n"
     ]
    }
   ],
   "source": [
    "#Use issubset() to check if all items in the set are in another set\n",
    "\n",
    "fruits3 = set((\"apple\", \"banana\", \"cherry\",\"pineapple\"))\n",
    "print(fruits)\n",
    "print(fruits2)\n",
    "print(fruits3)\n",
    "print(fruits.issubset(fruits2))\n",
    "\n",
    "\"\"\"\n",
    "The issubset() method returns True if all items in the set exists in the specified set, \n",
    "    otherwise it returns False.\"\"\"\n",
    "\n",
    "print(fruits2.issubset(fruits3))\n"
   ]
  },
  {
   "cell_type": "code",
   "execution_count": 48,
   "metadata": {},
   "outputs": [
    {
     "name": "stdout",
     "output_type": "stream",
     "text": [
      "{'banana', 'cherry', 'orange'}\n",
      "{'banana', 'cherry', 'pineapple', 'apple'}\n",
      "{'banana', 'cherry', 'pineapple', 'apple'}\n",
      "False\n",
      "True\n"
     ]
    }
   ],
   "source": [
    "#Use issuperset() to check if all items in another set are in the set\n",
    "\n",
    "print(fruits)\n",
    "print(fruits2)\n",
    "print(fruits3)\n",
    "print(fruits.issuperset(fruits2))\n",
    "print(fruits2.issuperset(fruits3))\n",
    "\n",
    "\"\"\"\n",
    "The issuperset() method returns True if all items in the specified set exists in the original set,\n",
    "    otherwise it returns False.\n",
    "\"\"\"\n"
   ]
  },
  {
   "cell_type": "markdown",
   "metadata": {},
   "source": [
    "Thankyou soo much for sticking for soo long, untill next time, Allah Hafiz"
   ]
  }
 ],
 "metadata": {
  "kernelspec": {
   "display_name": ".venv",
   "language": "python",
   "name": "python3"
  },
  "language_info": {
   "codemirror_mode": {
    "name": "ipython",
    "version": 3
   },
   "file_extension": ".py",
   "mimetype": "text/x-python",
   "name": "python",
   "nbconvert_exporter": "python",
   "pygments_lexer": "ipython3",
   "version": "3.11.4"
  }
 },
 "nbformat": 4,
 "nbformat_minor": 2
}
