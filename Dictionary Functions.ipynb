{
 "cells": [
  {
   "cell_type": "code",
   "execution_count": 2,
   "metadata": {},
   "outputs": [
    {
     "name": "stdout",
     "output_type": "stream",
     "text": [
      "{'brand': 'Ford', 'model': 'Mustang', 'year': 1964}\n",
      "{'brand': 'Ford', 'electric': False, 'year': 1966, 'colors': ['red', 'white', 'blue']}\n"
     ]
    }
   ],
   "source": [
    "\"\"\"\n",
    "Dictionaries are used to store data values in key:value pairs.\n",
    "\n",
    "A dictionary is a collection which is ordered, changeable and do not allow duplicates.\n",
    "\"\"\"\n",
    "#Constructions of a dictionary\n",
    "car_detail1 =  dict(brand = \"Ford\", model = \"Mustang\", year = 1964)\n",
    "print(car_detail1)\n",
    "\n",
    "#A dictionary can contain any data type\n",
    "car_detail2 = {\n",
    "  \"brand\": \"Ford\",\n",
    "  \"electric\": False,\n",
    "  \"year\": 1964,\n",
    "  \"year\": 1966,\n",
    "  \"colors\": [\"red\", \"white\", \"blue\"]\n",
    "}\n",
    "\"\"\"\n",
    "Python distionaries cannot have duplicate keys\n",
    "    (if duplicate keys are present the later one repleces the previous one)\n",
    "    \n",
    "But they can have duplicate values(meaning same value for two different keys)\n",
    "\"\"\"\n",
    "print(car_detail2)"
   ]
  },
  {
   "cell_type": "code",
   "execution_count": 3,
   "metadata": {},
   "outputs": [
    {
     "name": "stdout",
     "output_type": "stream",
     "text": [
      "{'brand': 'Ford', 'electric': False, 'year': 1966, 'colors': ['red', 'white', 'blue'], 'price': 150000}\n"
     ]
    }
   ],
   "source": [
    "#Use conventional method to add new item in the dictionary\n",
    "car_detail2[\"price\"] = 150000\n",
    "print(car_detail2)"
   ]
  },
  {
   "cell_type": "code",
   "execution_count": 4,
   "metadata": {},
   "outputs": [
    {
     "name": "stdout",
     "output_type": "stream",
     "text": [
      "3\n"
     ]
    },
    {
     "data": {
      "text/plain": [
       "'The len() function gives the number of items in the dictionary(Key-Value pair)'"
      ]
     },
     "execution_count": 4,
     "metadata": {},
     "output_type": "execute_result"
    }
   ],
   "source": [
    "#use len() to find the number of items in the distionary\n",
    "\n",
    "print(len(car_detail1))\n",
    "\n",
    "\"\"\"The len() function gives the number of items in the dictionary(Key-Value pair)\"\"\""
   ]
  },
  {
   "cell_type": "code",
   "execution_count": 5,
   "metadata": {},
   "outputs": [
    {
     "name": "stdout",
     "output_type": "stream",
     "text": [
      "{'brand': 'Ford', 'model': 'Mustang', 'year': 1964}\n"
     ]
    },
    {
     "data": {
      "text/plain": [
       "'The copy() method returns a copy of the specified dictionary.'"
      ]
     },
     "execution_count": 5,
     "metadata": {},
     "output_type": "execute_result"
    }
   ],
   "source": [
    "#Use copy() to copy a dictionary\n",
    "\n",
    "car_detail3 = car_detail1.copy()\n",
    "print(car_detail3)\n",
    "\n",
    "\"\"\"The copy() method returns a copy of the specified dictionary.\"\"\""
   ]
  },
  {
   "cell_type": "code",
   "execution_count": 6,
   "metadata": {},
   "outputs": [
    {
     "name": "stdout",
     "output_type": "stream",
     "text": [
      "{}\n"
     ]
    },
    {
     "data": {
      "text/plain": [
       "'The clear() method removes all the elements from a dictionary.'"
      ]
     },
     "execution_count": 6,
     "metadata": {},
     "output_type": "execute_result"
    }
   ],
   "source": [
    "#Use clear() to clear a dictionary\n",
    "\n",
    "car_detail3.clear()\n",
    "print(car_detail3)\n",
    "\n",
    "\"\"\"The clear() method removes all the elements from a dictionary.\"\"\""
   ]
  },
  {
   "cell_type": "code",
   "execution_count": 7,
   "metadata": {},
   "outputs": [
    {
     "name": "stdout",
     "output_type": "stream",
     "text": [
      "Ford\n",
      "None\n",
      "150000\n"
     ]
    },
    {
     "data": {
      "text/plain": [
       "'The get() method returns the value of the item with the specified key.'"
      ]
     },
     "execution_count": 7,
     "metadata": {},
     "output_type": "execute_result"
    }
   ],
   "source": [
    "#Use get() to clear a dictionary\n",
    "\n",
    "print(car_detail1.get(\"brand\"))\n",
    "\n",
    "#If you try to return something that is not present then it gives None\n",
    "print(car_detail1.get(\"price\"))\n",
    " \n",
    "#But if you specify the value then it gives the value\n",
    "print(car_detail1.get(\"price\", 150000))\n",
    "\n",
    "\"\"\"The get() method returns the value of the item with the specified key.\"\"\"\n"
   ]
  },
  {
   "cell_type": "code",
   "execution_count": 8,
   "metadata": {},
   "outputs": [
    {
     "name": "stdout",
     "output_type": "stream",
     "text": [
      "{'key1': 0, 'key2': 0, 'key3': 0}\n",
      "{'key1': None, 'key2': None, 'key3': None}\n"
     ]
    },
    {
     "data": {
      "text/plain": [
       "'The fromkeys() method returns a dictionary with the specified keys and the specified value.'"
      ]
     },
     "execution_count": 8,
     "metadata": {},
     "output_type": "execute_result"
    }
   ],
   "source": [
    "#use fromkey() to create a dictionary with the specified keys\n",
    "\n",
    "x = ('key1', 'key2', 'key3')\n",
    "y = 0\n",
    "\n",
    "randon_dict = dict.fromkeys(x, y)\n",
    "print(randon_dict)\n",
    "\n",
    "#I you don't specify the value\n",
    "random_dict2 = dict.fromkeys(x)\n",
    "print(random_dict2)\n",
    "\n",
    "\"\"\"The fromkeys() method returns a dictionary with the specified keys and the specified value.\"\"\"\n"
   ]
  },
  {
   "cell_type": "code",
   "execution_count": 9,
   "metadata": {},
   "outputs": [
    {
     "name": "stdout",
     "output_type": "stream",
     "text": [
      "dict_items([('brand', 'Ford'), ('model', 'Mustang'), ('year', 1964)])\n"
     ]
    },
    {
     "data": {
      "text/plain": [
       "'\\nThe items() method returns a view object. The view object contains the key-value pairs of the dictionary,\\n    as tuples in a list.\\n\\nThe view object will reflect any changes done to the dictionary, see example below.'"
      ]
     },
     "execution_count": 9,
     "metadata": {},
     "output_type": "execute_result"
    }
   ],
   "source": [
    "#Use items() to return a list containing a tuple for each key value pair\n",
    "\n",
    "print(car_detail1.items())\n",
    "\n",
    "\"\"\"\n",
    "The items() method returns a view object. The view object contains the key-value pairs of the dictionary,\n",
    "    as tuples in a list.\n",
    "\n",
    "The view object will reflect any changes done to the dictionary, see example below.\"\"\""
   ]
  },
  {
   "cell_type": "code",
   "execution_count": 10,
   "metadata": {},
   "outputs": [
    {
     "name": "stdout",
     "output_type": "stream",
     "text": [
      "dict_keys(['brand', 'model', 'year'])\n"
     ]
    },
    {
     "data": {
      "text/plain": [
       "'\\nThe keys() method returns a view object. The view object contains the keys of the dictionary, as a list.\\n    The view object will reflect any changes done to the dictionary, see example below.'"
      ]
     },
     "execution_count": 10,
     "metadata": {},
     "output_type": "execute_result"
    }
   ],
   "source": [
    "#use keys() to return a list of all the keys in the dictionary\n",
    "\n",
    "print(car_detail1.keys())\n",
    "\n",
    "\"\"\"\n",
    "The keys() method returns a view object. The view object contains the keys of the dictionary, as a list.\n",
    "    The view object will reflect any changes done to the dictionary, see example below.\"\"\""
   ]
  },
  {
   "cell_type": "code",
   "execution_count": 11,
   "metadata": {},
   "outputs": [
    {
     "data": {
      "text/plain": [
       "'Not Found'"
      ]
     },
     "execution_count": 11,
     "metadata": {},
     "output_type": "execute_result"
    }
   ],
   "source": [
    "#use pop() to remove an item from a dictionary\n",
    "\n",
    "car_detail1.pop(\"year\")\n",
    "\n",
    "\"\"\"The pop() method removes the specified item from the dictionary.\n",
    "\n",
    "The value of the removed item is the return value of the pop() method, see example below.\"\"\"\n",
    "\n",
    "#If the item to be removed is not present in the dictionary then it will give an error\n",
    "#But we can give an another value to return if the item is not present\n",
    "car_detail1.pop(\"year\", \"Not Found\")"
   ]
  },
  {
   "cell_type": "code",
   "execution_count": 12,
   "metadata": {},
   "outputs": [
    {
     "name": "stdout",
     "output_type": "stream",
     "text": [
      "{'brand': 'Ford', 'model': 'Mustang'}\n",
      "('model', 'Mustang')\n"
     ]
    },
    {
     "data": {
      "text/plain": [
       "\"\\nArguments:\\nkeyname\\t\\n    Required.\\n      The keyname of the item you want to return the value from\\nvalue\\t\\n    Optional.\\n      If the key exist, this parameter has no effect.\\n      If the key does not exist, this value becomes the key's value\\n      Default value None\""
      ]
     },
     "execution_count": 12,
     "metadata": {},
     "output_type": "execute_result"
    }
   ],
   "source": [
    "#Use popitem() to remove the last item from a dictionary\n",
    "print(car_detail1)\n",
    "print(car_detail1.popitem())\n",
    "\n",
    "\"\"\"\n",
    "The popitem() method removes the item that was last inserted into the dictionary. \n",
    "    In versions before 3.7, the popitem() method removes a random item.\n",
    "\n",
    "The removed item is the return value of the popitem() method, as a tuple, see example below.\"\"\"\n",
    "\n",
    "\"\"\"\n",
    "Arguments:\n",
    "keyname\t\n",
    "    Required.\n",
    "      The keyname of the item you want to return the value from\n",
    "value\t\n",
    "    Optional.\n",
    "      If the key exist, this parameter has no effect.\n",
    "      If the key does not exist, this value becomes the key's value\n",
    "      Default value None\"\"\""
   ]
  },
  {
   "cell_type": "code",
   "execution_count": 13,
   "metadata": {},
   "outputs": [
    {
     "name": "stdout",
     "output_type": "stream",
     "text": [
      "Mustang\n",
      "{'brand': 'Ford', 'model': 'Mustang'}\n"
     ]
    }
   ],
   "source": [
    "#Use setdefault() to return the value of the item with the specified key\n",
    "\n",
    "print(car_detail1.setdefault(\"model\", \"Mustang\"))\n",
    "\n",
    "print(car_detail1)"
   ]
  },
  {
   "cell_type": "code",
   "execution_count": 14,
   "metadata": {},
   "outputs": [
    {
     "name": "stdout",
     "output_type": "stream",
     "text": [
      "{'brand': 'Ford', 'model': 'Mustang', 'year': 2020, 'color': 'red'}\n"
     ]
    },
    {
     "data": {
      "text/plain": [
       "'The update() method inserts the specified items to the dictionary.\\n\\nThe specified items can be a dictionary, or an iterable object with key value pairs.'"
      ]
     },
     "execution_count": 14,
     "metadata": {},
     "output_type": "execute_result"
    }
   ],
   "source": [
    "#Use update() to update the dictionary with the items from another dictionary or from an iterable\n",
    "\n",
    "car_detail1.update({\"year\": 2020, \"color\": \"red\"})\n",
    "print(car_detail1)\n",
    "\n",
    "\"\"\"The update() method inserts the specified items to the dictionary.\n",
    "\n",
    "The specified items can be a dictionary, or an iterable object with key value pairs.\"\"\""
   ]
  },
  {
   "cell_type": "code",
   "execution_count": 207,
   "metadata": {},
   "outputs": [
    {
     "name": "stdout",
     "output_type": "stream",
     "text": [
      "dict_values(['Ford', 'Mustang', 2020, 'red'])\n"
     ]
    },
    {
     "data": {
      "text/plain": [
       "'\\nThe values() method returns a view object. The view object contains the values of the dictionary, as a list.\\n\\nThe view object will reflect any changes done to the dictionary, see example below.'"
      ]
     },
     "execution_count": 207,
     "metadata": {},
     "output_type": "execute_result"
    }
   ],
   "source": [
    "#Use values() to return a list of all the values in the dictionary\n",
    "\n",
    "print(car_detail1.values())\n",
    "\n",
    "\"\"\"\n",
    "The values() method returns a view object. The view object contains the values of the dictionary, as a list.\n",
    "\n",
    "The view object will reflect any changes done to the dictionary, see example below.\"\"\""
   ]
  }
 ],
 "metadata": {
  "kernelspec": {
   "display_name": ".venv",
   "language": "python",
   "name": "python3"
  },
  "language_info": {
   "codemirror_mode": {
    "name": "ipython",
    "version": 3
   },
   "file_extension": ".py",
   "mimetype": "text/x-python",
   "name": "python",
   "nbconvert_exporter": "python",
   "pygments_lexer": "ipython3",
   "version": "3.11.4"
  }
 },
 "nbformat": 4,
 "nbformat_minor": 2
}
