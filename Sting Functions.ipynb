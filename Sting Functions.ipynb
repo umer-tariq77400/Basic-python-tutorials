{
 "cells": [
  {
   "cell_type": "code",
   "execution_count": 1,
   "metadata": {},
   "outputs": [],
   "source": [
    "String1 = \"The quick brown fox jumps over the lazy dog\"\n",
    "String2 = \"The quick brown fox jumps over the lazy dog\""
   ]
  },
  {
   "cell_type": "code",
   "execution_count": 2,
   "metadata": {},
   "outputs": [
    {
     "name": "stdout",
     "output_type": "stream",
     "text": [
      "The first letter is: T\n",
      "The last letter is: g\n"
     ]
    }
   ],
   "source": [
    "#Use indexing to get the first letter\n",
    "print(\"The first letter is: \"+String1[0])\n",
    "#Use negative indexing to get the last letter\n",
    "print(\"The last letter is: \"+String1[-1])"
   ]
  },
  {
   "cell_type": "code",
   "execution_count": 3,
   "metadata": {},
   "outputs": [
    {
     "name": "stdout",
     "output_type": "stream",
     "text": [
      "The first five letters are: The q\n",
      "The last five letter are: y dog\n"
     ]
    }
   ],
   "source": [
    "#Use slicing to get the first five letters\n",
    "print(\"The first five letters are: \"+String1[:5])\n",
    "#Use slicing to get the last five letters\n",
    "print(\"The last five letter are: \"+ String1[-5:])"
   ]
  },
  {
   "cell_type": "code",
   "execution_count": 4,
   "metadata": {},
   "outputs": [
    {
     "ename": "TypeError",
     "evalue": "'str' object does not support item assignment",
     "output_type": "error",
     "traceback": [
      "\u001b[1;31m---------------------------------------------------------------------------\u001b[0m",
      "\u001b[1;31mTypeError\u001b[0m                                 Traceback (most recent call last)",
      "Cell \u001b[1;32mIn[4], line 2\u001b[0m\n\u001b[0;32m      1\u001b[0m \u001b[38;5;66;03m#Trying to mutate the string(it will throw an error as python strings are immutable)\u001b[39;00m\n\u001b[1;32m----> 2\u001b[0m \u001b[43mString1\u001b[49m\u001b[43m[\u001b[49m\u001b[38;5;241;43m0\u001b[39;49m\u001b[43m]\u001b[49m \u001b[38;5;241m=\u001b[39m \u001b[38;5;124m\"\u001b[39m\u001b[38;5;124mt\u001b[39m\u001b[38;5;124m\"\u001b[39m\n\u001b[0;32m      3\u001b[0m \u001b[38;5;28mprint\u001b[39m(string)\n",
      "\u001b[1;31mTypeError\u001b[0m: 'str' object does not support item assignment"
     ]
    }
   ],
   "source": [
    "#Trying to mutate the string(it will throw an error as python strings are immutable)\n",
    "String1[0] = \"t\"\n",
    "print(string)"
   ]
  },
  {
   "cell_type": "code",
   "execution_count": null,
   "metadata": {},
   "outputs": [
    {
     "name": "stdout",
     "output_type": "stream",
     "text": [
      "43\n"
     ]
    }
   ],
   "source": [
    "#Use the len() function to get the length of the string\n",
    "print(len(String1))"
   ]
  },
  {
   "cell_type": "code",
   "execution_count": null,
   "metadata": {},
   "outputs": [
    {
     "name": "stdout",
     "output_type": "stream",
     "text": [
      "True\n"
     ]
    }
   ],
   "source": [
    "#Use == to compare two strings\n",
    "print(String1 == String2)"
   ]
  },
  {
   "cell_type": "code",
   "execution_count": null,
   "metadata": {},
   "outputs": [
    {
     "name": "stdout",
     "output_type": "stream",
     "text": [
      "The quick brown fox jumps over the lazy dogThe quick brown fox jumps over the lazy dog\n"
     ]
    }
   ],
   "source": [
    "#Join two strings\n",
    "print(String1 + String2)"
   ]
  },
  {
   "cell_type": "code",
   "execution_count": null,
   "metadata": {},
   "outputs": [
    {
     "name": "stdout",
     "output_type": "stream",
     "text": [
      "T\n",
      "h\n",
      "e\n",
      " \n",
      "q\n",
      "u\n",
      "i\n",
      "c\n",
      "k\n",
      " \n",
      "b\n",
      "r\n",
      "o\n",
      "w\n",
      "n\n",
      " \n",
      "f\n",
      "o\n",
      "x\n",
      " \n",
      "j\n",
      "u\n",
      "m\n",
      "p\n",
      "s\n",
      " \n",
      "o\n",
      "v\n",
      "e\n",
      "r\n",
      " \n",
      "t\n",
      "h\n",
      "e\n",
      " \n",
      "l\n",
      "a\n",
      "z\n",
      "y\n",
      " \n",
      "d\n",
      "o\n",
      "g\n"
     ]
    }
   ],
   "source": [
    "#Iterate over the string\n",
    "for letter in String1:\n",
    "    print(letter)"
   ]
  },
  {
   "cell_type": "code",
   "execution_count": null,
   "metadata": {},
   "outputs": [
    {
     "name": "stdout",
     "output_type": "stream",
     "text": [
      "True\n",
      "False\n"
     ]
    }
   ],
   "source": [
    "#Check if a string contains a substring\n",
    "print(\"fox\" in String1)\n",
    "print(\"dog\" not in String1)"
   ]
  },
  {
   "cell_type": "code",
   "execution_count": null,
   "metadata": {},
   "outputs": [
    {
     "ename": "SyntaxError",
     "evalue": "unterminated string literal (detected at line 6) (2684190044.py, line 6)",
     "output_type": "error",
     "traceback": [
      "\u001b[1;36m  Cell \u001b[1;32mIn[52], line 6\u001b[1;36m\u001b[0m\n\u001b[1;33m    example1 = \"He said, \"What's there?\"\"\u001b[0m\n\u001b[1;37m                              ^\u001b[0m\n\u001b[1;31mSyntaxError\u001b[0m\u001b[1;31m:\u001b[0m unterminated string literal (detected at line 6)\n"
     ]
    }
   ],
   "source": [
    "#Use escape sequence in python\n",
    "\n",
    "\"\"\"The escape sequence is used to escape some of the characters present inside a string.\n",
    "\n",
    "Suppose we need to include both double quote and single quote inside a string,\"\"\"\n",
    "example1 = \"He said, \"What's there?\"\"\n",
    "print(example1) # throws error\n",
    "\n",
    "\"\"\"\n",
    "Since strings are represented by single or double quotes, the compiler will treat \"He said, \" as the string.\n",
    "    Hence, the above code will cause an error.\n",
    "\n",
    "To solve this issue, we use the escape character \\ in Python.\n",
    "\n",
    "In the next cell>>>\n",
    "\"\"\"\n"
   ]
  },
  {
   "cell_type": "code",
   "execution_count": null,
   "metadata": {},
   "outputs": [
    {
     "name": "stdout",
     "output_type": "stream",
     "text": [
      "He said, \"What's there?\"\n",
      "He said, \"What's there?\"\n"
     ]
    }
   ],
   "source": [
    "# escape double quotes\n",
    "example2 = \"He said, \\\"What's there?\\\"\"\n",
    "\n",
    "# escape single quotes\n",
    "example3 = 'He said, \"What\\'s there?\"'\n",
    "\n",
    "print(example2)\n",
    "print(example3)\n"
   ]
  },
  {
   "cell_type": "code",
   "execution_count": null,
   "metadata": {},
   "outputs": [
    {
     "name": "stdout",
     "output_type": "stream",
     "text": [
      "THE QUICK BROWN FOX JUMPS OVER THE LAZY DOG\n",
      "the quick brown fox jumps over the lazy dog\n",
      "I love python\n"
     ]
    }
   ],
   "source": [
    "#Making the string uppercase\n",
    "print(String1.upper())\n",
    "#Making the string lowercase\n",
    "print(String1.lower())\n",
    "#Capitalize the first letter and the rest lowercase\n",
    "String3 = \"i Love Python\"\n",
    "print(String3.capitalize())"
   ]
  },
  {
   "cell_type": "code",
   "execution_count": null,
   "metadata": {},
   "outputs": [
    {
     "name": "stdout",
     "output_type": "stream",
     "text": [
      "16\n"
     ]
    }
   ],
   "source": [
    "#Finding the index of a subbstring\n",
    "print(String1.find(\"fox\"))"
   ]
  },
  {
   "cell_type": "code",
   "execution_count": null,
   "metadata": {},
   "outputs": [
    {
     "name": "stdout",
     "output_type": "stream",
     "text": [
      "['The', 'quick', 'brown', 'fox', 'jumps', 'over', 'the', 'lazy', 'dog']\n"
     ]
    }
   ],
   "source": [
    "#Splitting the string into a list\n",
    "print(String1.split(\" \"))\n",
    "#We can provide any deliiter as an argument"
   ]
  },
  {
   "cell_type": "code",
   "execution_count": null,
   "metadata": {},
   "outputs": [
    {
     "name": "stdout",
     "output_type": "stream",
     "text": [
      "******i Love Python******\n"
     ]
    }
   ],
   "source": [
    "#Use center() to center the string\n",
    "print(String3.center(25, \"*\"))\n",
    "#The center() method returns a new centered string after padding it with the specified character."
   ]
  },
  {
   "cell_type": "code",
   "execution_count": null,
   "metadata": {},
   "outputs": [
    {
     "name": "stdout",
     "output_type": "stream",
     "text": [
      "the greek letters ϋ, ά\n"
     ]
    },
    {
     "data": {
      "text/plain": [
       "'Thecasefold() function is similar to lower(), but it is more aggressive in converting characters to lowercase.\\nIt converts all the letters in a string to lowercase, including special characters that are not specified in the ASCII table.\\nFor example, if you have a string “ß”, the casefold() function will return “ss”'"
      ]
     },
     "execution_count": 57,
     "metadata": {},
     "output_type": "execute_result"
    }
   ],
   "source": [
    "#Use casefold() to convert the string to lowercase\n",
    "print(\"The Greek letters Ϋ, Ά\".casefold()) \n",
    "\"\"\"Thecasefold() function is similar to lower(), but it is more aggressive in converting characters to lowercase.\n",
    "It converts all the letters in a string to lowercase, including special characters that are not specified in the ASCII table.\n",
    "For example, if you have a string “ß”, the casefold() function will return “ss”\"\"\" "
   ]
  },
  {
   "cell_type": "code",
   "execution_count": null,
   "metadata": {},
   "outputs": [
    {
     "name": "stdout",
     "output_type": "stream",
     "text": [
      "4\n"
     ]
    }
   ],
   "source": [
    "#Use count() to count the number of occurences of a substring\n",
    "print(String1.count(\"o\"))"
   ]
  },
  {
   "cell_type": "code",
   "execution_count": null,
   "metadata": {},
   "outputs": [
    {
     "name": "stdout",
     "output_type": "stream",
     "text": [
      "True\n",
      "False\n"
     ]
    }
   ],
   "source": [
    "#Use endwith() to check if the string ends with a substring\n",
    "print(String1.endswith(\"dog\"))\n",
    "print(String1.endswith(\"cat\"))"
   ]
  },
  {
   "cell_type": "code",
   "execution_count": null,
   "metadata": {},
   "outputs": [
    {
     "name": "stdout",
     "output_type": "stream",
     "text": [
      "Hello   World\n"
     ]
    },
    {
     "data": {
      "text/plain": [
       "\"The expandtabs() returns a string where all '\\t' characters are replaced with whitespace characters\\nuntil the next multiple of tabsize parameter.\""
      ]
     },
     "execution_count": 85,
     "metadata": {},
     "output_type": "execute_result"
    }
   ],
   "source": [
    "#Use expandtabs() to replace tabs with spaces\n",
    "String4 = \"Hello\\tWorld\"\n",
    "print(String4.expandtabs(8))\n",
    "\n",
    "\"\"\"The expandtabs() returns a string where all '\\t' characters are replaced with whitespace characters\n",
    "until the next multiple of tabsize parameter.\"\"\""
   ]
  },
  {
   "cell_type": "code",
   "execution_count": null,
   "metadata": {},
   "outputs": [
    {
     "name": "stdout",
     "output_type": "stream",
     "text": [
      "b'P\\xce\\xabTHON'\n"
     ]
    }
   ],
   "source": [
    "#Use encode() to encode the string\n",
    "\n",
    "print(\"PΫTHON\".encode())\n",
    "\"\"\"The encode() method returns an encoded version of the given string.\"\"\""
   ]
  },
  {
   "cell_type": "code",
   "execution_count": null,
   "metadata": {},
   "outputs": [
    {
     "name": "stdout",
     "output_type": "stream",
     "text": [
      "Cathy is from UK\n"
     ]
    }
   ],
   "source": [
    "#Use string formatting(f-string)\n",
    "\n",
    "#Python f-Strings make it really easy to print values and variables.\n",
    "name = 'Cathy'\n",
    "country = 'UK'\n",
    "\n",
    "print(f'{name} is from {country}')"
   ]
  },
  {
   "cell_type": "code",
   "execution_count": null,
   "metadata": {},
   "outputs": [
    {
     "name": "stdout",
     "output_type": "stream",
     "text": [
      "Hello Adam, your balance is 230.2346.\n",
      "Hello Adam, your balance is 230.2346.\n",
      "Hello Adam, your balance is 230.2346.\n",
      "Hello Adam, your balance is 230.2346.\n",
      "Hello Adam, your balance is  230.235\n"
     ]
    }
   ],
   "source": [
    "#Use string formatting\n",
    "# default arguments\n",
    "print(\"Hello {}, your balance is {}.\".format(\"Adam\", 230.2346))\n",
    "\n",
    "# positional arguments\n",
    "print(\"Hello {0}, your balance is {1}.\".format(\"Adam\", 230.2346))\n",
    "\n",
    "# keyword arguments\n",
    "print(\"Hello {name}, your balance is {blc}.\".format(name=\"Adam\", blc=230.2346))\n",
    "\n",
    "# mixed arguments\n",
    "print(\"Hello {0}, your balance is {blc}.\".format(\"Adam\", blc=230.2346))\n",
    "\n",
    "# formatting a number\n",
    "print(\"Hello {}, your balance is {:8.3f}\".format(\"Adam\", 230.2346))\n",
    "\n",
    "#Formatting is a whole world in itself. You can explore and learn more on Python formatting"
   ]
  },
  {
   "cell_type": "code",
   "execution_count": null,
   "metadata": {},
   "outputs": [
    {
     "name": "stdout",
     "output_type": "stream",
     "text": [
      "16\n"
     ]
    },
    {
     "data": {
      "text/plain": [
       "'The index() method returns the index of a substring inside the string (if found).\\n If the substring is not found, it raises an exception.'"
      ]
     },
     "execution_count": 126,
     "metadata": {},
     "output_type": "execute_result"
    }
   ],
   "source": [
    "#Use index() to find the index of a substring\n",
    "print(String1.index(\"fox\"))\n",
    "\"\"\"The index() method returns the index of a substring inside the string (if found).\n",
    " If the substring is not found, it raises an exception.\"\"\""
   ]
  },
  {
   "cell_type": "code",
   "execution_count": null,
   "metadata": {},
   "outputs": [
    {
     "name": "stdout",
     "output_type": "stream",
     "text": [
      "26\n"
     ]
    }
   ],
   "source": [
    "#Use rindex() to find the index of a substring\n",
    "print(\"Let it be, Let it be, Let it be\".rindex(\"it\"))"
   ]
  },
  {
   "cell_type": "code",
   "execution_count": null,
   "metadata": {},
   "outputs": [
    {
     "name": "stdout",
     "output_type": "stream",
     "text": [
      "False\n",
      "True\n"
     ]
    },
    {
     "data": {
      "text/plain": [
       "'The isalnum() method returns True if all characters in the string are alphanumeric (either alphabets or numbers).\\n If not, it returns False.'"
      ]
     },
     "execution_count": 129,
     "metadata": {},
     "output_type": "execute_result"
    }
   ],
   "source": [
    "\n",
    "#Use isalnum() to check if the string is alphanumeric\n",
    "print(String3.isalnum())\n",
    "print(\"HelloWorld1\".isalnum())\n",
    "\"\"\"The isalnum() method returns True if all characters in the string are alphanumeric (either alphabets or numbers).\n",
    " If not, it returns False.\"\"\""
   ]
  },
  {
   "cell_type": "code",
   "execution_count": null,
   "metadata": {},
   "outputs": [
    {
     "name": "stdout",
     "output_type": "stream",
     "text": [
      "True\n",
      "False\n",
      "False\n"
     ]
    }
   ],
   "source": [
    "#use isalpha() to check if the string is alphabetic\n",
    "print(\"HelloWorld\".isalpha())\n",
    "print(\"HelloWorld!\".isalpha())\n",
    "print(\"Hello World\".isalpha())\n",
    "\"\"\"The isalpha() returns:\n",
    "True if all characters in the string are alphabets (can be both lowercase and uppercase).\n",
    "False if at least one character is not alphabet.\"\"\""
   ]
  },
  {
   "cell_type": "code",
   "execution_count": null,
   "metadata": {},
   "outputs": [
    {
     "name": "stdout",
     "output_type": "stream",
     "text": [
      "True\n",
      "False\n",
      "False\n"
     ]
    }
   ],
   "source": [
    "#Use isdecimal() to checl if the string is a decimal number\n",
    "print(\"123\".isdecimal())\n",
    "print(\"123.45\".isdecimal())\n",
    "print(\"½123\".isdecimal())\n"
   ]
  },
  {
   "cell_type": "code",
   "execution_count": null,
   "metadata": {},
   "outputs": [
    {
     "name": "stdout",
     "output_type": "stream",
     "text": [
      "True\n",
      "False\n",
      "False\n"
     ]
    }
   ],
   "source": [
    "#Use isdigit() to check if the string is a digit\n",
    "print(\"123\".isdigit())\n",
    "print(\"123.45\".isdigit())\n",
    "print(\"½123\".isdigit())"
   ]
  },
  {
   "cell_type": "code",
   "execution_count": null,
   "metadata": {},
   "outputs": [
    {
     "name": "stdout",
     "output_type": "stream",
     "text": [
      "True\n",
      "False\n",
      "True\n"
     ]
    }
   ],
   "source": [
    "#Use isidentifier() to check if the string is an identifier\n",
    "print(\"HelloWorld\".isidentifier())\n",
    "print(\"123.45\".isidentifier())\n",
    "print(\"HelloWorld123\".isidentifier())\n",
    "\n",
    "\"\"\"In Python, an identifier is a name used to identify a variable, function, class, module, or other object. \n",
    "Identifiers are user-defined names consisting of arbitrarily long sequences of letters, digits, and underscores,\n",
    " with either a letter or an underscore as the first character. \n",
    "Identifiers are used to give a unique and descriptive name to different elements of a program,\n",
    " making it easier to understand and maintain the code.\"\"\""
   ]
  },
  {
   "cell_type": "code",
   "execution_count": null,
   "metadata": {},
   "outputs": [
    {
     "name": "stdout",
     "output_type": "stream",
     "text": [
      "True\n",
      "True\n",
      "False\n"
     ]
    }
   ],
   "source": [
    "#Use islower() to check if the string is lowercase\n",
    "print(\"helloworld\".islower())\n",
    "print(\"hell0w0rld\".islower())\n",
    "print(\"HelloWorld\".islower())"
   ]
  },
  {
   "cell_type": "code",
   "execution_count": null,
   "metadata": {},
   "outputs": [
    {
     "name": "stdout",
     "output_type": "stream",
     "text": [
      "True\n",
      "False\n",
      "True\n"
     ]
    }
   ],
   "source": [
    "#Use isnumeric() to check if the string is numerical\n",
    "print(\"123\".isnumeric())\n",
    "print(\"123.45\".isnumeric())\n",
    "print(\"½123\".isnumeric())"
   ]
  },
  {
   "cell_type": "code",
   "execution_count": null,
   "metadata": {},
   "outputs": [
    {
     "name": "stdout",
     "output_type": "stream",
     "text": [
      "True\n",
      "False\n",
      "False\n"
     ]
    }
   ],
   "source": [
    "#Use isprintable() to check if the string is printable\n",
    "print(String1.isprintable())\n",
    "print(String4.isprintable())\n",
    "print(\"Hello\\nWorld\".isprintable())\n",
    "\"\"\"\n",
    "Characters that occupy printing space on the screen are known as printable characters. \n",
    "   For example letters and symbols, digits, punctuation, whitespace\n",
    "Characters that do not occupy a space and are used for formatting is known as non-printable characters. \n",
    "   For example line breaks, page breaks\n",
    "   \"\"\""
   ]
  },
  {
   "cell_type": "code",
   "execution_count": null,
   "metadata": {},
   "outputs": [
    {
     "name": "stdout",
     "output_type": "stream",
     "text": [
      "False\n",
      "True\n",
      "False\n"
     ]
    },
    {
     "data": {
      "text/plain": [
       "'Characters that are used for spacing are called whitespace characters. For example: tabs, spaces, newline, etc.'"
      ]
     },
     "execution_count": 166,
     "metadata": {},
     "output_type": "execute_result"
    }
   ],
   "source": [
    "#Use isspace()to check if the string is a whitespace charactor\n",
    "print(String1.isspace())\n",
    "print(\"\\n  \\t\".isspace())\n",
    "print(\"\".isspace())\n",
    "\n",
    "\"\"\"Characters that are used for spacing are called whitespace characters. For example: tabs, spaces, newline, etc.\"\"\""
   ]
  },
  {
   "cell_type": "code",
   "execution_count": null,
   "metadata": {},
   "outputs": [
    {
     "name": "stdout",
     "output_type": "stream",
     "text": [
      "False\n",
      "False\n",
      "False\n",
      "True\n",
      "True\n"
     ]
    }
   ],
   "source": [
    "#Use istitle() to check if the string is a titlecase\n",
    "print(String3.istitle())\n",
    "print(String1.istitle())\n",
    "print(\"python is good\".istitle())\n",
    "print(\"Python Is Good\".istitle())\n",
    "print(\"99 Is A Number\".istitle())"
   ]
  },
  {
   "cell_type": "code",
   "execution_count": null,
   "metadata": {},
   "outputs": [
    {
     "name": "stdout",
     "output_type": "stream",
     "text": [
      "False\n",
      "True\n"
     ]
    }
   ],
   "source": [
    "#Use isupper() to check if the string is uppercase\n",
    "print(String4.isupper())\n",
    "print(\"HWLLO WORLD\".isupper())"
   ]
  },
  {
   "cell_type": "code",
   "execution_count": 5,
   "metadata": {},
   "outputs": [
    {
     "name": "stdout",
     "output_type": "stream",
     "text": [
      "['I', 'Love', 'Python', 'Very', 'Much']\n",
      "I Love Python Very Much\n",
      "s1.join(s2): 1abc2abc3\n",
      "s2.join(s1): a123b123c\n"
     ]
    }
   ],
   "source": [
    "#Use join() to join a list of strings\n",
    "#First making a list of strings\n",
    "List1 = \"I Love Python Very Much\".split(\" \")\n",
    "print(List1)\n",
    "#now joining the list of strings into a single string\n",
    "String5 = \" \".join(List1)\n",
    "print(String5)\n",
    "\n",
    "\"\"\"The string join() method returns a string by joining all the elements of an iterable (list, string, tuple),\n",
    "separated by the given separator.\"\"\"\n",
    "\n",
    "#Here's another example of join()\n",
    "s1 = 'abc'\n",
    "s2 = '123'\n",
    "\n",
    "# each element of s2 is separated by s1\n",
    "# '1'+ 'abc'+ '2'+ 'abc'+ '3'\n",
    "print('s1.join(s2):', s1.join(s2))\n",
    "\n",
    "# each element of s1 is separated by s2\n",
    "# 'a'+ '123'+ 'b'+ '123'+ 'c'\n",
    "print('s2.join(s1):', s2.join(s1))\n",
    "\n",
    "#You can even use join() with a tuple, list, dictionary, set or any other iterable\n"
   ]
  },
  {
   "cell_type": "code",
   "execution_count": null,
   "metadata": {},
   "outputs": [
    {
     "name": "stdout",
     "output_type": "stream",
     "text": [
      "i Love Python*******\n"
     ]
    }
   ],
   "source": [
    "#Use ljust() to left justify a string\n",
    "\n",
    "print(String3.ljust(20, \"*\"))\n",
    "\"\"\"The ljust() method returns the left-justified string within the given minimum width.\n",
    "If fillchar is defined, it also fills the remaining space with the defined character.\"\"\""
   ]
  },
  {
   "cell_type": "code",
   "execution_count": null,
   "metadata": {},
   "outputs": [
    {
     "name": "stdout",
     "output_type": "stream",
     "text": [
      "$$$$$i Love Python\n"
     ]
    }
   ],
   "source": [
    "#Use rjust() to right justify a string\n",
    "print(String3.rjust(18, \"$\"))\n",
    "\"\"\"The rjust() method returns the right-justified string within the given minimum width.\n",
    "If fillchar is defined, it also fills the remaining space with the defined character.\"\"\""
   ]
  },
  {
   "cell_type": "code",
   "execution_count": null,
   "metadata": {},
   "outputs": [
    {
     "name": "stdout",
     "output_type": "stream",
     "text": [
      "Hello, World!\n"
     ]
    },
    {
     "data": {
      "text/plain": [
       "'The swapcase() method returns the string by converting all the characters to their opposite letter case\\n(uppercase to lowercase and vice versa).'"
      ]
     },
     "execution_count": 35,
     "metadata": {},
     "output_type": "execute_result"
    }
   ],
   "source": [
    "#Use swapcase() to swap case od a string\n",
    "\n",
    "print(\"hELLO, wORLD!\".swapcase())\n",
    "\"\"\"The swapcase() method returns the string by converting all the characters to their opposite letter case\n",
    "(uppercase to lowercase and vice versa).\"\"\""
   ]
  },
  {
   "cell_type": "code",
   "execution_count": null,
   "metadata": {},
   "outputs": [
    {
     "name": "stdout",
     "output_type": "stream",
     "text": [
      "Learn Python\n",
      "xoxo love xoxo\n",
      "lov\n",
      "  xoxo love xoxo   \n"
     ]
    },
    {
     "data": {
      "text/plain": [
       "'chars (optional) - a string specifying the set of characters to be removed from the left and right part of the string.\\n\\nThe strip() method removes characters from both left and right based on the argument \\n   (a string specifying the set of characters to be removed).\\n\\nNote: If the chars argument is not provided, all leading and trailing whitespaces are removed from the string.\\n\\nWhen the character of the string in the left mismatches with all the characters in the chars argument,\\n   it stops removing the leading characters.\\nSimilarly, when the character of the string in the right mismatches with all the characters in the chars argument,\\n   it stops removing the trailing characters.'"
      ]
     },
     "execution_count": 41,
     "metadata": {},
     "output_type": "execute_result"
    }
   ],
   "source": [
    "#Use strip() to remove whitespace\n",
    "print(\"  Learn Python   \".strip())\n",
    "\n",
    "#More use cases of strip()\n",
    "\n",
    "# Leading and trailing whitespaces are removed\n",
    "print('  xoxo love xoxo   '.strip())\n",
    "\n",
    "# All <whitespace>,x,o,e characters in the left\n",
    "# and right of string are removed\n",
    "print('  xoxo love xoxo   '.strip(' xoe'))\n",
    "\n",
    "# Argument doesn't contain space\n",
    "# No characters are removed.\n",
    "print('  xoxo love xoxo   '.strip('stx'))\n",
    "\n",
    "\"\"\"chars (optional) - a string specifying the set of characters to be removed from the left and right part of the string.\n",
    "\n",
    "The strip() method removes characters from both left and right based on the argument \n",
    "   (a string specifying the set of characters to be removed).\n",
    "\n",
    "Note: If the chars argument is not provided, all leading and trailing whitespaces are removed from the string.\n",
    "\n",
    "When the character of the string in the left mismatches with all the characters in the chars argument,\n",
    "   it stops removing the leading characters.\n",
    "Similarly, when the character of the string in the right mismatches with all the characters in the chars argument,\n",
    "   it stops removing the trailing characters.\"\"\""
   ]
  },
  {
   "cell_type": "code",
   "execution_count": null,
   "metadata": {},
   "outputs": [
    {
     "name": "stdout",
     "output_type": "stream",
     "text": [
      "Learn Python   \n",
      "this is good \n",
      "   this is good \n",
      "his is good \n",
      "www.program.com/\n"
     ]
    }
   ],
   "source": [
    "#Use lstrip() to remove whitespace from the left\n",
    "print(\"   Learn Python   \".lstrip())\n",
    "\n",
    "#More use cases of lstrip()\n",
    "\n",
    "# Leading whitepsace are removed\n",
    "print('   this is good '.lstrip())\n",
    "\n",
    "# Argument doesn't contain space\n",
    "# No characters are removed.\n",
    "print('   this is good '.lstrip('sti'))\n",
    "\n",
    "# Argument contains space but doesn't contain 'h' so it will stop after 't'\n",
    "print('   this is good '.lstrip('s ti'))\n",
    "\n",
    "print('https://www.program.com/'.lstrip('htps:/.'))\n",
    "\n",
    "\"\"\"\n",
    "The lstrip() removes characters from the left based on the argument\n",
    "   (a string specifying the set of characters to be removed).\n",
    "   \n",
    " chars (optional) - a string specifying the set of characters to be removed.\n",
    "If chars argument is not provided, all leading whitespaces are removed from the string.  \n",
    "\"\"\"\n"
   ]
  },
  {
   "cell_type": "code",
   "execution_count": null,
   "metadata": {},
   "outputs": [
    {
     "name": "stdout",
     "output_type": "stream",
     "text": [
      "   Learn Python\n",
      "this is good\n",
      "this is good\n",
      "this is g\n",
      "www.program.co\n"
     ]
    }
   ],
   "source": [
    "#Use rstrip() to remove the whitespace from the right\n",
    "print(\"   Learn Python   \".rstrip())\n",
    "\n",
    "#More use cases of rstrip() \n",
    "\n",
    "# Trailing whitespace are removed\n",
    "print('this is good    '.rstrip())\n",
    "\n",
    "# 'si oo' are not trailing characters so nothing is removed\n",
    "print('this is good    '.rstrip('si oo'))\n",
    "\n",
    "# in 'sid oo', 'd oo' are the trailing characters, 'ood' is removed from the string\n",
    "print('this is good    '.rstrip('sid oo'))\n",
    "\n",
    "print('www.program.com/' .rstrip('m/.'))\n",
    "\n",
    "\"\"\"\n",
    "The rstrip() method returns a copy of the string with trailing characters removed \n",
    "   (based on the string argument passed).\n",
    "   \n",
    "chars (optional) - a string specifying the set of trailing characters to be removed.\n",
    "   If chars argument is not provided, all whitespaces on the right are removed from the string.\n",
    "\"\"\"\n"
   ]
  },
  {
   "cell_type": "code",
   "execution_count": null,
   "metadata": {},
   "outputs": [
    {
     "name": "stdout",
     "output_type": "stream",
     "text": [
      "('Python ', 'is', \" fun, isn't it\")\n",
      "('The quick brown ', 'fox', ' jumps over the lazy dog')\n",
      "('The quick brown fox jumps over the lazy dog', '', '')\n"
     ]
    }
   ],
   "source": [
    "#Use partiton() to split a string\n",
    "\n",
    "#The partition() method takes a string parameter separator that separates the string at the first occurrence of it.\n",
    "print(\"Python is fun, isn't it\".partition(\"is\"))\n",
    "\n",
    "\"\"\"\n",
    "The partition method returns a 3-tuple containing \n",
    "   the part before the separator, separator parameter, and the part after the separator \n",
    "   if the separator parameter is found in the string\"\"\"\n",
    "print(String1.partition(\"fox\"))\n",
    "\"\"\"\n",
    "The partition method returns a 3-tuple containing\n",
    "   the string itself and two empty strings \n",
    "   if the separator parameter is not found\n",
    "\"\"\"\n",
    "print(String1.partition(\"lion\"))\n",
    "\n"
   ]
  },
  {
   "cell_type": "code",
   "execution_count": null,
   "metadata": {},
   "outputs": [],
   "source": [
    "#Use rpartiton() to split a string\n",
    "print(\"Python is fun, isn't it\".rpartition(\"is\"))\n",
    "\n",
    "\"\"\"rpartition() method takes a string parameter separator that separates the string at the last occurrence of it.\"\"\""
   ]
  },
  {
   "cell_type": "code",
   "execution_count": null,
   "metadata": {},
   "outputs": [
    {
     "name": "stdout",
     "output_type": "stream",
     "text": [
      "The quick brown fox jumps over the lazy cat\n",
      "i Hate Python\n"
     ]
    }
   ],
   "source": [
    "#Use replace() to replace a substring\n",
    "print(String1.replace(\"dog\",\"cat\"))\n",
    "print(String3.replace(\"Love\",\"Hate\"))\n",
    "\n",
    "\"\"\"The replace() method replaces each matching occurrence of a substring with another string.\"\"\""
   ]
  },
  {
   "cell_type": "code",
   "execution_count": null,
   "metadata": {},
   "outputs": [
    {
     "name": "stdout",
     "output_type": "stream",
     "text": [
      "16\n",
      "40\n",
      "-1\n"
     ]
    },
    {
     "data": {
      "text/plain": [
       "'The find() method returns the index of first occurrence of the substring (if found). If not found, it returns -1.'"
      ]
     },
     "execution_count": 22,
     "metadata": {},
     "output_type": "execute_result"
    }
   ],
   "source": [
    "#Use find() to find the index of a substring\n",
    "print(String1.find(\"fox\"))\n",
    "print(String1.find(\"dog\"))\n",
    "print(String1.find(\"cat\"))\n",
    "\"\"\"The find() method returns the index of first occurrence of the substring (if found). If not found, it returns -1.\"\"\""
   ]
  },
  {
   "cell_type": "code",
   "execution_count": null,
   "metadata": {},
   "outputs": [
    {
     "name": "stdout",
     "output_type": "stream",
     "text": [
      "26\n"
     ]
    }
   ],
   "source": [
    "#Use rfind() to find the index of a substring\n",
    "print(\"Let it be, Let it be, Let it be\".rfind(\"it\"))\n",
    "\"\"\"It starts finding the index from the right side of the string\"\"\"\n"
   ]
  },
  {
   "cell_type": "code",
   "execution_count": null,
   "metadata": {},
   "outputs": [
    {
     "name": "stdout",
     "output_type": "stream",
     "text": [
      "['Hello', ' World', ' How', ' Are', ' You']\n",
      "['Hello', ' World', ' How, Are, You']\n"
     ]
    }
   ],
   "source": [
    "#Use split() to split a string\n",
    "print(\"Hello, World, How, Are, You\".split(\",\"))\n",
    "\n",
    "#We can also define the maxaplits\n",
    "print(\"Hello, World, How, Are, You\".split(\",\", 2))"
   ]
  },
  {
   "cell_type": "code",
   "execution_count": null,
   "metadata": {},
   "outputs": [
    {
     "name": "stdout",
     "output_type": "stream",
     "text": [
      "['Hello', ' World', ' How', ' Are', ' You']\n",
      "['Hello, World, How', ' Are', ' You']\n"
     ]
    }
   ],
   "source": [
    "#Use rsplit() to split the string\n",
    "print(\"Hello, World, How, Are, You\".rsplit(\",\"))\n",
    "#When maxsplit is not specified then rsplit() behaives like split()\n",
    "\n",
    "#But when we define maxsplit as 2, it will split the string from the right side\n",
    "print(\"Hello, World, How, Are, You\".rsplit(\",\", 2))\n",
    "#rsplit() starts to split from the right side"
   ]
  },
  {
   "cell_type": "code",
   "execution_count": null,
   "metadata": {},
   "outputs": [
    {
     "name": "stdout",
     "output_type": "stream",
     "text": [
      "['Hello', 'World', 'How', 'Are', 'You']\n"
     ]
    },
    {
     "data": {
      "text/plain": [
       "'The splitlines() method splits the string at line breaks and returns a list..'"
      ]
     },
     "execution_count": 33,
     "metadata": {},
     "output_type": "execute_result"
    }
   ],
   "source": [
    "#Use splitlines() to split the string\n",
    "print(\"Hello\\nWorld\\nHow\\nAre\\nYou\".splitlines())\n",
    "\n",
    "\"\"\"The splitlines() method splits the string at line breaks and returns a list..\"\"\""
   ]
  },
  {
   "cell_type": "code",
   "execution_count": null,
   "metadata": {},
   "outputs": [],
   "source": [
    "#Use startswith() to check if the string starts with a substring\n",
    "print(String1.startswith(\"The\"))\n",
    "print(\"Hello, World, How, Are, You\".startswith(\"Hello\"))\n",
    "\n",
    "\"\"\"\n",
    "The startswith() method returns True if a string starts with the specified prefix(string).\n",
    "    If not, it returns False.\n",
    "\"\"\""
   ]
  },
  {
   "cell_type": "code",
   "execution_count": null,
   "metadata": {},
   "outputs": [
    {
     "name": "stdout",
     "output_type": "stream",
     "text": [
      "Hello, World\n",
      "The Quick Brown Fox Jumps Over The Lazy Dog\n"
     ]
    }
   ],
   "source": [
    "#Use title() to convert the first character of each word to uppercase\n",
    "print(\"hello, world\".title())\n",
    "print(String1.title())\n",
    "\"\"\"\n",
    "title() method returns a title cased version of the string. Meaning, the first character of each word is capitalized \n",
    "    (if the first character is a letter)\n",
    ".\"\"\""
   ]
  },
  {
   "cell_type": "code",
   "execution_count": null,
   "metadata": {},
   "outputs": [
    {
     "name": "stdout",
     "output_type": "stream",
     "text": [
      "00123\n",
      "i Love Python\n"
     ]
    }
   ],
   "source": [
    "#Use zfill() to pad a string with zeros\n",
    "print(\"123\".zfill(5))\n",
    "print(String3.zfill(10))\n",
    "\n",
    "\"\"\"\n",
    "zfill() returns a copy of the string with 0 filled to the left. \n",
    "    The length of the returned string depends on the width provided.\n",
    "\n",
    "1) Suppose, the initial length of the string is 10. And, the width is specified 15. In this case, \n",
    "    zfill() returns a copy of the string with five '0' digits filled to the left.\n",
    "\n",
    "2) Suppose, the initial length of the string is 10. And, the width is specified 8. In this case, \n",
    "    zfill() doesn't fill '0' digits to the left and returns a copy of the original string. \n",
    "    The length of the returned string in this case will be 10.\"\"\""
   ]
  },
  {
   "cell_type": "markdown",
   "metadata": {},
   "source": [
    "This was only a short demo. There is a lot to learn about python string, more than you can imagine"
   ]
  },
  {
   "cell_type": "markdown",
   "metadata": {},
   "source": [
    "Tankyou so much for sticking for so long,\n",
    "untill next time,\n",
    "Allah Hafiz"
   ]
  }
 ],
 "metadata": {
  "kernelspec": {
   "display_name": ".venv",
   "language": "python",
   "name": "python3"
  },
  "language_info": {
   "codemirror_mode": {
    "name": "ipython",
    "version": 3
   },
   "file_extension": ".py",
   "mimetype": "text/x-python",
   "name": "python",
   "nbconvert_exporter": "python",
   "pygments_lexer": "ipython3",
   "version": "3.11.4"
  }
 },
 "nbformat": 4,
 "nbformat_minor": 2
}
