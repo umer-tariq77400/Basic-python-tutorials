{
 "cells": [
  {
   "cell_type": "code",
   "execution_count": 14,
   "metadata": {},
   "outputs": [
    {
     "name": "stdout",
     "output_type": "stream",
     "text": [
      "['apple', 'banana', 'cherry']\n"
     ]
    }
   ],
   "source": [
    "\"\"\"List Items\n",
    "List items are ordered, changeable, and allow duplicate values.\n",
    "List items are indexed, the first item has index [0], the second item has index [1] etc.\n",
    "\"\"\"\n",
    "#List can store any data type\n",
    "list1 = [\"apple\", \"banana\", \"cherry\"]\n",
    "list2 = [1, 5, 7, 9, 3]\n",
    "list3 = [True, False, False]\n",
    "\n",
    "\n",
    "#How to construct a list\n",
    "fruits = list((\"apple\", \"banana\", \"cherry\"))\n",
    "print(fruits)"
   ]
  },
  {
   "cell_type": "code",
   "execution_count": 15,
   "metadata": {},
   "outputs": [
    {
     "name": "stdout",
     "output_type": "stream",
     "text": [
      "apple\n",
      "banana\n",
      "cherry\n"
     ]
    }
   ],
   "source": [
    "#Loop over list items\n",
    "for fruit in fruits:\n",
    "    print(fruit)"
   ]
  },
  {
   "cell_type": "code",
   "execution_count": 16,
   "metadata": {},
   "outputs": [
    {
     "name": "stdout",
     "output_type": "stream",
     "text": [
      "['apple', 'banana', 'cherry', 1, 5, 7, 9, 3, True, False, False]\n"
     ]
    }
   ],
   "source": [
    "#Join lists\n",
    "list4 = list1 + list2 + list3\n",
    "\n",
    "print(list4)"
   ]
  },
  {
   "cell_type": "code",
   "execution_count": 17,
   "metadata": {},
   "outputs": [
    {
     "name": "stdout",
     "output_type": "stream",
     "text": [
      "3\n"
     ]
    }
   ],
   "source": [
    "#Use len() to find the number of items in a list\n",
    "print(len(fruits))\n",
    "\n",
    "#It gives the lenght of the list"
   ]
  },
  {
   "cell_type": "code",
   "execution_count": 18,
   "metadata": {},
   "outputs": [
    {
     "name": "stdout",
     "output_type": "stream",
     "text": [
      "['apple', 'banana', 'cherry', 'orange']\n"
     ]
    }
   ],
   "source": [
    "#Use append() to add an item to the end of the list\n",
    "fruits.append(\"orange\")\n",
    "print(fruits)\n",
    "\n",
    "#it appends the item at the end of the of the list"
   ]
  },
  {
   "cell_type": "code",
   "execution_count": 19,
   "metadata": {},
   "outputs": [
    {
     "name": "stdout",
     "output_type": "stream",
     "text": [
      "['apple', 'banana', 'cherry', 'orange', 'bmw', 'audi', 'benz']\n"
     ]
    }
   ],
   "source": [
    "#Use extend() to add more than one item to the end of the list\n",
    "cars = [\"bmw\",\"audi\",\"benz\"]\n",
    "fruits.extend(cars)\n",
    "print(fruits)\n",
    "\n",
    "#he extend() method adds the specified list elements (or any iterable) to the end of the current list."
   ]
  },
  {
   "cell_type": "code",
   "execution_count": 20,
   "metadata": {},
   "outputs": [
    {
     "name": "stdout",
     "output_type": "stream",
     "text": [
      "['apple', 'banana', 'cherry', 'bmw', 'audi', 'benz']\n"
     ]
    }
   ],
   "source": [
    "#Use remove()to remove an item from the list\n",
    "fruits.remove(\"orange\")\n",
    "print(fruits)\n",
    "\n",
    "#If the item is not present in the list, it will throw an error"
   ]
  },
  {
   "cell_type": "code",
   "execution_count": 21,
   "metadata": {},
   "outputs": [
    {
     "data": {
      "text/plain": [
       "'benz'"
      ]
     },
     "execution_count": 21,
     "metadata": {},
     "output_type": "execute_result"
    }
   ],
   "source": [
    "#Use pop() to remove an item from the list\n",
    "fruits.pop()\n",
    "#print(fruits)\n",
    "\n",
    "#pop() drops the last element by default and prints it.\n",
    "#but it takes an argument to specify the index\n",
    "\n",
    "#fruits.pop(-1)  #Droping the object in the last index\n",
    "\n",
    "#If the item is not present in the list, it will throw an error"
   ]
  },
  {
   "cell_type": "code",
   "execution_count": 22,
   "metadata": {},
   "outputs": [
    {
     "name": "stdout",
     "output_type": "stream",
     "text": [
      "['apple', 'banana', 'cherry', 'bmw', 'audi']\n",
      "['apple', 'banana', 'cherry', 'bmw', 'audi']\n"
     ]
    }
   ],
   "source": [
    "#Use copy() to copy the list\n",
    "fruits_copy = fruits.copy()\n",
    "print(fruits_copy)\n",
    "print(fruits)\n",
    "\n",
    "#It copies the list"
   ]
  },
  {
   "cell_type": "code",
   "execution_count": 23,
   "metadata": {},
   "outputs": [
    {
     "name": "stdout",
     "output_type": "stream",
     "text": [
      "[]\n"
     ]
    }
   ],
   "source": [
    "#Use clear() to empty the list\n",
    "fruits_copy.clear()\n",
    "print(fruits_copy)\n",
    "\n",
    "#It empties the list"
   ]
  },
  {
   "cell_type": "code",
   "execution_count": 24,
   "metadata": {},
   "outputs": [
    {
     "name": "stdout",
     "output_type": "stream",
     "text": [
      "1\n"
     ]
    }
   ],
   "source": [
    "#Use count() to count the number of a particular item in a list\n",
    "print(fruits.count(\"apple\"))\n",
    "\n",
    "#If the item is not present in the list, it will return 0"
   ]
  },
  {
   "cell_type": "code",
   "execution_count": 25,
   "metadata": {},
   "outputs": [
    {
     "name": "stdout",
     "output_type": "stream",
     "text": [
      "0\n"
     ]
    },
    {
     "ename": "ValueError",
     "evalue": "'mango' is not in list",
     "output_type": "error",
     "traceback": [
      "\u001b[1;31m---------------------------------------------------------------------------\u001b[0m",
      "\u001b[1;31mValueError\u001b[0m                                Traceback (most recent call last)",
      "Cell \u001b[1;32mIn[25], line 3\u001b[0m\n\u001b[0;32m      1\u001b[0m \u001b[38;5;66;03m#Use index() to find the index of an item\u001b[39;00m\n\u001b[0;32m      2\u001b[0m \u001b[38;5;28mprint\u001b[39m(fruits\u001b[38;5;241m.\u001b[39mindex(\u001b[38;5;124m\"\u001b[39m\u001b[38;5;124mapple\u001b[39m\u001b[38;5;124m\"\u001b[39m))\n\u001b[1;32m----> 3\u001b[0m \u001b[38;5;28mprint\u001b[39m(\u001b[43mfruits\u001b[49m\u001b[38;5;241;43m.\u001b[39;49m\u001b[43mindex\u001b[49m\u001b[43m(\u001b[49m\u001b[38;5;124;43m\"\u001b[39;49m\u001b[38;5;124;43mmango\u001b[39;49m\u001b[38;5;124;43m\"\u001b[39;49m\u001b[43m)\u001b[49m)\n\u001b[0;32m      5\u001b[0m \u001b[38;5;66;03m#If the item is not present in the list, it will throw an error\u001b[39;00m\n",
      "\u001b[1;31mValueError\u001b[0m: 'mango' is not in list"
     ]
    }
   ],
   "source": [
    "#Use index() to find the index of an item\n",
    "print(fruits.index(\"apple\"))\n",
    "print(fruits.index(\"mango\"))\n",
    "\n",
    "#If the item is not present in the list, it will throw an error"
   ]
  },
  {
   "cell_type": "code",
   "execution_count": null,
   "metadata": {},
   "outputs": [
    {
     "name": "stdout",
     "output_type": "stream",
     "text": [
      "['banana', 'grapes', 'apple', 'mango', 'bmw', 'audi']\n"
     ]
    }
   ],
   "source": [
    "#Use insert() to add an item at a particular index\n",
    "fruits.insert(1,\"grapes\")\n",
    "print(fruits)\n",
    "\n",
    "#If the index is greater than the length of the list, it will add the item at the end\n",
    "#If the index is not present in the list, it will throw an error"
   ]
  },
  {
   "cell_type": "code",
   "execution_count": null,
   "metadata": {},
   "outputs": [
    {
     "name": "stdout",
     "output_type": "stream",
     "text": [
      "['apple', 'audi', 'banana', 'bmw', 'grapes', 'mango']\n",
      "['mango', 'grapes', 'bmw', 'banana', 'audi', 'apple']\n"
     ]
    }
   ],
   "source": [
    "#Use sort() to sort the list\n",
    "fruits.sort()\n",
    "print(fruits)\n",
    "\n",
    "#To sort in desending order we can use reverse = True\n",
    "fruits.sort(reverse = True)\n",
    "print(fruits)\n",
    "\n",
    "#It takes a key function as an optional argument. A function to specify the sorting criteria(s)"
   ]
  },
  {
   "cell_type": "code",
   "execution_count": 28,
   "metadata": {},
   "outputs": [
    {
     "name": "stdout",
     "output_type": "stream",
     "text": [
      "['audi', 'bmw', 'cherry', 'banana', 'apple']\n",
      "apple\n"
     ]
    }
   ],
   "source": [
    "#Use reverse to reverse the list\n",
    "fruits.reverse()\n",
    "print(fruits)\n",
    "\n",
    "#It reverses the list"
   ]
  },
  {
   "cell_type": "markdown",
   "metadata": {},
   "source": [
    "Thnakyou soo much for sticking for this long, until necct time, Allah Hafiz"
   ]
  }
 ],
 "metadata": {
  "kernelspec": {
   "display_name": ".venv",
   "language": "python",
   "name": "python3"
  },
  "language_info": {
   "codemirror_mode": {
    "name": "ipython",
    "version": 3
   },
   "file_extension": ".py",
   "mimetype": "text/x-python",
   "name": "python",
   "nbconvert_exporter": "python",
   "pygments_lexer": "ipython3",
   "version": "3.11.4"
  }
 },
 "nbformat": 4,
 "nbformat_minor": 2
}
