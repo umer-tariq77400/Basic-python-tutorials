{
 "cells": [
  {
   "cell_type": "markdown",
   "metadata": {},
   "source": [
    "Python Conditions and If statements\n",
    "\n",
    "Python supports the usual logical conditions from mathematics:\n",
    "\n",
    "\n",
    "Equals: a == b\n",
    "\n",
    "Not Equals: a != b\n",
    "\n",
    "Less than: a < b\n",
    "\n",
    "Less than or equal to: a <= b\n",
    "\n",
    "Greater than: a > b\n",
    "\n",
    "Greater than or equal to: a >= b\n",
    "\n",
    "\n",
    "These conditions can be used in several ways, most commonly in \"if statements\" and loops.\n",
    "\n",
    "An \"if statement\" is written by using the if keyword."
   ]
  },
  {
   "cell_type": "markdown",
   "metadata": {},
   "source": [
    "First we will talk about if, elif and else statements"
   ]
  },
  {
   "cell_type": "code",
   "execution_count": 3,
   "metadata": {},
   "outputs": [
    {
     "name": "stdout",
     "output_type": "stream",
     "text": [
      "a is greater than b\n"
     ]
    }
   ],
   "source": [
    "a = 300\n",
    "b = 200\n",
    "c = 400\n",
    "if a <  b:\n",
    "    print(\"a is smaller than b\")\n",
    "elif a > b:\n",
    "    print(\"a is greater than b\")\n",
    "else:\n",
    "    print(\"a is equal to b\")"
   ]
  },
  {
   "cell_type": "code",
   "execution_count": 4,
   "metadata": {},
   "outputs": [
    {
     "name": "stdout",
     "output_type": "stream",
     "text": [
      "a is greater than b\n"
     ]
    }
   ],
   "source": [
    "\"\"\"Short hand IF statements\n",
    "\n",
    "If you have only one statement to execute, you can put it in the same line as the if statement \"\"\"\n",
    "\n",
    "if a > b: print(\"a is greater than b\")"
   ]
  },
  {
   "cell_type": "code",
   "execution_count": 5,
   "metadata": {},
   "outputs": [
    {
     "name": "stdout",
     "output_type": "stream",
     "text": [
      "a is greater than b\n"
     ]
    }
   ],
   "source": [
    "\"\"\"Short Hand IF, Else\n",
    "\n",
    "If you have only one statement to execute, one for IF and one for ELSE, you can put it in the same line\"\"\"\n",
    "\n",
    "print(\"a is greater than b\") if a>b else print(\"a is smaller than b\")\n",
    "\n",
    "# This tehnique is known as ternary operator, or conditonal operator"
   ]
  },
  {
   "cell_type": "code",
   "execution_count": 6,
   "metadata": {},
   "outputs": [
    {
     "name": "stdout",
     "output_type": "stream",
     "text": [
      "a is greater than b and a is less than c\n"
     ]
    }
   ],
   "source": [
    "#Use multiple conditons in If(elif, Else) statements\n",
    "\n",
    "if a > b and a > c:\n",
    "    print(\"a is greater than b and c\")\n",
    "elif a > b and a < c:\n",
    "    print(\"a is greater than b and a is less than c\")\n",
    "else:\n",
    "    print(\"a is neither greater than b nor less than c\")\n"
   ]
  },
  {
   "cell_type": "code",
   "execution_count": 7,
   "metadata": {},
   "outputs": [
    {
     "name": "stdout",
     "output_type": "stream",
     "text": [
      "a is greater than 100\n",
      "a is also greater than 200\n",
      "a is not greater than 300\n"
     ]
    }
   ],
   "source": [
    "\"\"\"Nasted IF conditions\n",
    "\n",
    "If you have IF statement inside IF statement, than it is called nasted IF statement\"\"\"\n",
    "\n",
    "if a > 100:\n",
    "    print(\"a is greater than 100\")\n",
    "    if a > 200:\n",
    "        print(\"a is also greater than 200\")\n",
    "        if a > 300:\n",
    "            print(\"a is also greater than 300\")\n",
    "        else:\n",
    "            print(\"a is not greater than 300\")"
   ]
  },
  {
   "cell_type": "code",
   "execution_count": 8,
   "metadata": {},
   "outputs": [
    {
     "name": "stdout",
     "output_type": "stream",
     "text": [
      "passed\n"
     ]
    }
   ],
   "source": [
    "\"\"\"The pass statement\n",
    "\n",
    "if statement cannot be empty, but if you for any reason have an if statement empty,\n",
    "    put in the pass statement to avoid getting any error\"\"\"\n",
    "\n",
    "if a > b:\n",
    "    pass\n",
    "print(\"passed\")"
   ]
  },
  {
   "cell_type": "markdown",
   "metadata": {},
   "source": [
    "Now we will look at the Loops. \n",
    "\n",
    "1. For \n",
    "\n",
    "2. While\n"
   ]
  },
  {
   "cell_type": "markdown",
   "metadata": {},
   "source": [
    "Python For Loops:\n",
    "\n",
    "A for loop is used for iterating over a sequence (that is either a list, a tuple, a dictionary, a set, or a string).\n",
    "\n",
    "This is less like the for keyword in other programming languages, and works more like an iterator method as found in other \n",
    "\n",
    "object-orientated programming languages.\n",
    "\n",
    "With the for loop we can execute a set of statements, once for each item in a list, tuple, set etc."
   ]
  },
  {
   "cell_type": "code",
   "execution_count": 9,
   "metadata": {},
   "outputs": [
    {
     "name": "stdout",
     "output_type": "stream",
     "text": [
      "apple\n",
      "banana\n",
      "cherry\n"
     ]
    }
   ],
   "source": [
    "# Loop through a list\n",
    "fruits = ['apple', 'banana', 'cherry']\n",
    "\n",
    "# using for loop\n",
    "for fruit in fruits:\n",
    "    print(fruit)\n",
    "\n",
    "# The for loop does not require an indexing variable to set beforehand."
   ]
  },
  {
   "cell_type": "code",
   "execution_count": 10,
   "metadata": {},
   "outputs": [
    {
     "name": "stdout",
     "output_type": "stream",
     "text": [
      "b\n",
      "a\n",
      "n\n",
      "a\n",
      "n\n",
      "a\n"
     ]
    }
   ],
   "source": [
    "# Loop through a string\n",
    "for letter in \"banana\":\n",
    "    print(letter)"
   ]
  },
  {
   "cell_type": "code",
   "execution_count": 11,
   "metadata": {},
   "outputs": [
    {
     "name": "stdout",
     "output_type": "stream",
     "text": [
      "apple\n",
      "banana\n",
      "\n",
      "\n",
      "apple\n"
     ]
    }
   ],
   "source": [
    "# Use the break statement in the for loop\n",
    "for fruit in fruits:\n",
    "    print(fruit)\n",
    "    if fruit == \"banana\":\n",
    "        break\n",
    "\n",
    "print(\"\\n\")\n",
    "\n",
    "# Use break statement before print statement\n",
    "for fruit in fruits:\n",
    "  if fruit == \"banana\":\n",
    "    break\n",
    "  print(fruit)\n",
    "\n",
    "  \"\"\"With the break statement we can stop the loop before it has looped through all the items\"\"\""
   ]
  },
  {
   "cell_type": "code",
   "execution_count": 12,
   "metadata": {},
   "outputs": [
    {
     "name": "stdout",
     "output_type": "stream",
     "text": [
      "apple\n",
      "cherry\n"
     ]
    },
    {
     "data": {
      "text/plain": [
       "'With the continue statement we can stop the current iteration of the loop, and continue with the next'"
      ]
     },
     "execution_count": 12,
     "metadata": {},
     "output_type": "execute_result"
    }
   ],
   "source": [
    "# Use the continue statement in the for loop\n",
    "for fruit in fruits: \n",
    "    if fruit == \"banana\":\n",
    "        continue\n",
    "    print(fruit)\n",
    "\n",
    "\"\"\"With the continue statement we can stop the current iteration of the loop, and continue with the next\"\"\""
   ]
  },
  {
   "cell_type": "code",
   "execution_count": 13,
   "metadata": {},
   "outputs": [
    {
     "name": "stdout",
     "output_type": "stream",
     "text": [
      "0 1 2 3 4 5 \n",
      "\n",
      "2 3 4 5 "
     ]
    },
    {
     "data": {
      "text/plain": [
       "'\\nThe range() function defaults to 0 as a starting value,\\n    however it is possible to specify the starting value by adding a parameter: range(2, 6),\\n    which means values from 2 to 6 (but not including 6)\\n'"
      ]
     },
     "execution_count": 13,
     "metadata": {},
     "output_type": "execute_result"
    }
   ],
   "source": [
    "# Use range function in for loop\n",
    "\n",
    "for i in range(6):\n",
    "    print(i, end=\" \")\n",
    "\n",
    "\"\"\"To loop through a set of code a specified number of times, we can use the range() function,\n",
    "\n",
    "The range() function returns a sequence of numbers,\n",
    "    starting from 0 by default, and increments by 1 (by default), and ends at a specified number.\n",
    "    \n",
    "Note that range(6) is not the values of 0 to 6, but the values 0 to 5.\n",
    "\"\"\"\n",
    "print(\"\\n\") #giving a new line\n",
    "\n",
    "for i in range(2, 6):\n",
    "    print(i, end=\" \")\n",
    "\n",
    "\"\"\"\n",
    "The range() function defaults to 0 as a starting value,\n",
    "    however it is possible to specify the starting value by adding a parameter: range(2, 6),\n",
    "    which means values from 2 to 6 (but not including 6)\n",
    "\"\"\""
   ]
  },
  {
   "cell_type": "code",
   "execution_count": 14,
   "metadata": {},
   "outputs": [
    {
     "name": "stdout",
     "output_type": "stream",
     "text": [
      "2 5 8 11 14 17 20 23 26 29 "
     ]
    }
   ],
   "source": [
    "\"\"\"\n",
    "The range() function defaults to increment the sequence by 1,\n",
    "    however it is possible to specify the increment value by adding a third parameter: range(2, 30, 3)\n",
    "\"\"\"\n",
    "\n",
    "for i in range(2, 30, 3):\n",
    "    print(i, end=\" \")"
   ]
  },
  {
   "cell_type": "code",
   "execution_count": 15,
   "metadata": {},
   "outputs": [
    {
     "name": "stdout",
     "output_type": "stream",
     "text": [
      "0 1 2 3 4 5 Finally finished!\n",
      "\n",
      "\n",
      "0 1 2 "
     ]
    }
   ],
   "source": [
    "# Use else statement in for loop\n",
    "for i in range(6):\n",
    "    print(i, end=\" \")\n",
    "else:\n",
    "    print(\"Finally finished!\")\n",
    "\n",
    "\"\"\"The else keyword in a for loop specifies a block of code to be executed when the loop is finished\n",
    "\n",
    "Note: The else block will NOT be executed if the loop is stopped by a break statement.\n",
    "\"\"\"\n",
    "print(\"\\n\") #giving an new line\n",
    "\n",
    "for i in range(6):\n",
    "  if i == 3: break\n",
    "  print(i, end=\" \")\n",
    "else:\n",
    "  print(\"Finally finished!\")\n"
   ]
  },
  {
   "cell_type": "code",
   "execution_count": 16,
   "metadata": {},
   "outputs": [
    {
     "name": "stdout",
     "output_type": "stream",
     "text": [
      "1 apple\n",
      "1 banana\n",
      "1 cherry\n",
      "2 apple\n",
      "2 banana\n",
      "2 cherry\n"
     ]
    }
   ],
   "source": [
    "# Use nasted loop in for loop\n",
    "\n",
    "\"\"\"A nested loop is a loop inside a loop.\n",
    "\n",
    "The \"inner loop\" will be executed one time for each iteration of the \"outer loop\"\"\"\n",
    "\n",
    "for i in range(1, 3):\n",
    "    for fruit in fruits:\n",
    "        print(i,fruit)\n"
   ]
  },
  {
   "cell_type": "code",
   "execution_count": 17,
   "metadata": {},
   "outputs": [
    {
     "data": {
      "text/plain": [
       "'\\nfor loops cannot be empty, \\nbut if you for some reason have a for loop with no content, \\nput in the pass statement to avoid getting an error.\\n'"
      ]
     },
     "execution_count": 17,
     "metadata": {},
     "output_type": "execute_result"
    }
   ],
   "source": [
    "# Use pass statement in for loop\n",
    "for fruit in fruits:\n",
    "    pass\n",
    "\n",
    "\"\"\"\n",
    "for loops cannot be empty, \n",
    "but if you for some reason have a for loop with no content, \n",
    "put in the pass statement to avoid getting an error.\n",
    "\"\"\""
   ]
  },
  {
   "cell_type": "markdown",
   "metadata": {},
   "source": [
    "Python While loop:\n",
    "\n",
    "With the while loop we can execute a set of statements as long as a condition is true."
   ]
  },
  {
   "cell_type": "code",
   "execution_count": 18,
   "metadata": {},
   "outputs": [
    {
     "name": "stdout",
     "output_type": "stream",
     "text": [
      "1\n",
      "2\n",
      "3\n",
      "4\n",
      "5\n"
     ]
    }
   ],
   "source": [
    "# Use while loop to execute a block of code as long as the test expression is true\n",
    "\n",
    "# The while loop requires relevant variables to be ready.\n",
    "# In this example we need to define an indexing variable, i, which we set to 1.\n",
    "i = 1\n",
    "while i < 6:\n",
    "    print(i)\n",
    "    i += 1\n",
    "\n",
    "#Note remember to incriment i, or else the loop will continue forever"
   ]
  },
  {
   "cell_type": "code",
   "execution_count": 19,
   "metadata": {},
   "outputs": [
    {
     "name": "stdout",
     "output_type": "stream",
     "text": [
      "1\n",
      "2\n",
      "3\n"
     ]
    }
   ],
   "source": [
    "# Use break statement in the while loop\n",
    "\n",
    "i = 1 \n",
    "while i < 6:\n",
    "    print(i)\n",
    "    if i == 3:\n",
    "        break\n",
    "    i += 1\n",
    "\n",
    "#With the break statement we can stop the loop even if the while condition is true\n"
   ]
  },
  {
   "cell_type": "code",
   "execution_count": 20,
   "metadata": {},
   "outputs": [
    {
     "name": "stdout",
     "output_type": "stream",
     "text": [
      "1\n",
      "2\n",
      "4\n",
      "5\n"
     ]
    }
   ],
   "source": [
    "# Use continue statement in the while loop\n",
    "\n",
    "i = 1 \n",
    "while i < 6: \n",
    "    if i == 3:  \n",
    "        i += 1 \n",
    "        continue \n",
    "    print(i) \n",
    "    i += 1 \n",
    "\n",
    "# We can even do it in this another way   \n",
    "\"\"\"i = 0 \n",
    "while i < 6: \n",
    "    i += 1 \n",
    "    if i == 3: \n",
    "        continue \n",
    "    print(i)\"\"\"\n",
    "    "
   ]
  },
  {
   "cell_type": "code",
   "execution_count": 27,
   "metadata": {},
   "outputs": [
    {
     "name": "stdout",
     "output_type": "stream",
     "text": [
      "1\n",
      "2\n",
      "3\n",
      "4\n",
      "5\n",
      "i is no longer less than 6\n"
     ]
    }
   ],
   "source": [
    "# Use else statement in the while loop\n",
    "\n",
    "i = 1\n",
    "while i < 6:\n",
    "    print(i)\n",
    "    i += 1\n",
    "else:\n",
    "    print(\"i is no longer less than 6\")\n",
    "\n",
    "# With the else statement we can run a block of code once when the condition no longer is true"
   ]
  },
  {
   "cell_type": "markdown",
   "metadata": {},
   "source": [
    "There is a lot more to learn about the loop and tha conditional statemetns as they are they key aspect of the programming for building the logic.\n",
    "\n",
    "In my opinion if you want to understand the loop better, debug them. It tells you the flow of the loop."
   ]
  },
  {
   "cell_type": "markdown",
   "metadata": {},
   "source": [
    "Untill next time, Allah Hafiz"
   ]
  }
 ],
 "metadata": {
  "kernelspec": {
   "display_name": ".venv",
   "language": "python",
   "name": "python3"
  },
  "language_info": {
   "codemirror_mode": {
    "name": "ipython",
    "version": 3
   },
   "file_extension": ".py",
   "mimetype": "text/x-python",
   "name": "python",
   "nbconvert_exporter": "python",
   "pygments_lexer": "ipython3",
   "version": "3.11.4"
  }
 },
 "nbformat": 4,
 "nbformat_minor": 2
}
