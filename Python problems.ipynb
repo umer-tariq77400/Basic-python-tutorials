{
 "cells": [
  {
   "cell_type": "code",
   "execution_count": 9,
   "metadata": {},
   "outputs": [
    {
     "name": "stdout",
     "output_type": "stream",
     "text": [
      "[7, 9, 11, 13, 15]\n"
     ]
    }
   ],
   "source": [
    "# You are given two lists of integers, list1 and list2.\n",
    "# Your task is to write a Python function that takes these two lists as arguments \n",
    "# and returns a new list which is the element-wise sum of these two lists.\n",
    "# The function should add 0 for any missing elements if the lists are of unequal length.\n",
    "\n",
    "def add_lists(list1, list2):\n",
    "    # If the lists are of unequal length, extend the shorter one with zeros\n",
    "    if len(list1) < len(list2):\n",
    "        list1 += [0] * (len(list2) - len(list1))\n",
    "    elif len(list2) < len(list1):\n",
    "        list2 += [0] * (len(list1) - len(list2))\n",
    "\n",
    "    # Use the + operator to add corresponding elements from the two lists\n",
    "    result = [a + b for a, b in zip(list1, list2)]\n",
    "    \n",
    "    return result\n",
    "\n",
    "# Test the function with the given lists\n",
    "list1 = [1, 2, 3, 4, 5]\n",
    "list2 = [6, 7, 8, 9, 10]\n",
    "\n",
    "print(add_lists(list1, list2)) "
   ]
  },
  {
   "cell_type": "code",
   "execution_count": 10,
   "metadata": {},
   "outputs": [
    {
     "name": "stdout",
     "output_type": "stream",
     "text": [
      "olleH !dlroW sihT si a nohtyP .esicrexe\n"
     ]
    }
   ],
   "source": [
    "# You are given a string of words separated by spaces.\n",
    "# Your task is to write a Python function that takes this string as an argument and returns a new string \n",
    "# where each word is reversed, but the order of the words in the string remains the same.\n",
    "\n",
    "def reverse_words(s):\n",
    "    words = s.split()\n",
    "    reversed_words = [word[::-1] for word in words]\n",
    "    return \" \".join(reversed_words)\n",
    "\n",
    "s = \"Hello World! This is a Python exercise.\"\n",
    "print(reverse_words(s)) "
   ]
  },
  {
   "cell_type": "code",
   "execution_count": 17,
   "metadata": {},
   "outputs": [
    {
     "data": {
      "text/plain": [
       "True"
      ]
     },
     "execution_count": 17,
     "metadata": {},
     "output_type": "execute_result"
    }
   ],
   "source": [
    "# Write a function called is_palindrome that takes a string as an argument and returns True if the string is a palindrome,\n",
    "# and False otherwise. A palindrome is a word, phrase, or sequence that reads the same backward as forward,\n",
    "# such as “madam” or “racecar\"\n",
    "\n",
    "def is_pallidrome(str):\n",
    "    str = str.lower()\n",
    "    characters = [chr for chr in str]\n",
    "    characters.reverse()\n",
    "    reversed_str = \"\".join(characters)\n",
    "    if str == reversed_str:\n",
    "       return True\n",
    "    else:\n",
    "        return False\n",
    " \n",
    "is_pallidrome(\"Madam\")\n",
    "\n"
   ]
  },
  {
   "cell_type": "code",
   "execution_count": 1,
   "metadata": {},
   "outputs": [
    {
     "data": {
      "text/plain": [
       "False"
      ]
     },
     "execution_count": 1,
     "metadata": {},
     "output_type": "execute_result"
    }
   ],
   "source": [
    "# Write a function called is_prime that takes a positive integer as an argument and \n",
    "# True if the number is a prime, and False otherwise. \n",
    "# A prime is a number that is only divisible by 1 and itself.\n",
    "def is_prime(int):\n",
    "    if int < 2:\n",
    "        return False\n",
    "    for i in range(2, int):\n",
    "        if int % i == 0:\n",
    "            return False\n",
    "    return True\n",
    "\n",
    "(is_prime(9))"
   ]
  },
  {
   "cell_type": "code",
   "execution_count": 11,
   "metadata": {},
   "outputs": [
    {
     "name": "stdout",
     "output_type": "stream",
     "text": [
      "59.0\n",
      "15.0\n",
      "Input correct unit:\n",
      "1) C for celsius\n",
      "2) F for fahrenheit\n"
     ]
    }
   ],
   "source": [
    "# Write a Python program to convert temperatures to and from Celsius, Fahrenheit.\n",
    "\n",
    "def unit_converter(value, unit):\n",
    "    if unit.upper() == \"C\":\n",
    "        return value * 9/5 + 32\n",
    "    elif unit.upper() == \"F\":\n",
    "        return (value - 32) *5/9\n",
    "    else:\n",
    "        print(\"Input correct unit:\")\n",
    "        print(\"1) C for celsius\")\n",
    "        print(\"2) F for fahrenheit\")\n",
    "\n",
    "print(unit_converter(15,\"c\"))\n",
    "print(unit_converter(59,\"f\"))\n",
    "unit_converter(15,\"k\")\n",
    "\n"
   ]
  },
  {
   "cell_type": "code",
   "execution_count": 23,
   "metadata": {},
   "outputs": [
    {
     "name": "stdout",
     "output_type": "stream",
     "text": [
      "4\n"
     ]
    }
   ],
   "source": [
    "# Write a Python function that takes a list of numbers as an argument \n",
    "# and returns the second largest number in the list. For example,\n",
    "# if the list is [1, 3, 5, 2, 4], the function should return 4.\n",
    "\n",
    "# define the function\n",
    "def second_largest(numbers):\n",
    "  # check if the list is empty\n",
    "  if not numbers:\n",
    "    raise ValueError(\"The list is empty\")\n",
    "  # check if the list has only one element\n",
    "  elif len(numbers) == 1:\n",
    "    raise ValueError(\"The list has only one element\")\n",
    "  # sort the list and return the second last element\n",
    "  else:\n",
    "    return sorted(numbers)[-2]\n",
    "\n",
    "\n",
    "print(second_largest([1, 2, 3, 4, 5]))\n"
   ]
  },
  {
   "cell_type": "code",
   "execution_count": 25,
   "metadata": {},
   "outputs": [
    {
     "data": {
      "text/plain": [
       "5"
      ]
     },
     "execution_count": 25,
     "metadata": {},
     "output_type": "execute_result"
    }
   ],
   "source": [
    "def count_vowels(string):\n",
    "    count = 0\n",
    "    for s in string:\n",
    "        if s.lower() in \"aeiou\":\n",
    "            count += 1\n",
    "        else:\n",
    "            continue\n",
    "    return count\n",
    "\n",
    "count_vowels(\"My name is umer\")"
   ]
  },
  {
   "cell_type": "code",
   "execution_count": 36,
   "metadata": {},
   "outputs": [
    {
     "name": "stdout",
     "output_type": "stream",
     "text": [
      "Jv kxjb fp Rjbo\n",
      "My name is Umer\n"
     ]
    }
   ],
   "source": [
    "\"\"\"\n",
    "Write a Python function that takes a string as an argument and returns a new string \n",
    "    that is a Caesar cipher of the original string.\n",
    "\n",
    "A Caesar cipher is a simple encryption technique where each letter in the original string is replaced\n",
    "    by a letter some fixed number of positions down the alphabet. \n",
    "\n",
    "For example, if the shift is 3, then A becomes D, B becomes E, and so on.\"\"\"\n",
    "\n",
    "def caesar_cipher(string, shift):\n",
    "    result = \"\"\n",
    "    for char in string:\n",
    "        if char.isalpha():\n",
    "            if char.isupper():\n",
    "                result += chr((ord(char) + shift - 65) % 26 + 65)\n",
    "            else:\n",
    "                result += chr((ord(char) + shift - 97) % 26 + 97)\n",
    "        else:\n",
    "            result += char\n",
    "    return result\n",
    "\n",
    "Encoded_messagen = caesar_cipher(\"My name is Umer\",-3)\n",
    "print(Encoded_messagen)\n",
    "\n",
    "Decoded_message = caesar_cipher(Encoded_messagen,3)\n",
    "print(Decoded_message)\n",
    "\n",
    "\n",
    "\n"
   ]
  }
 ],
 "metadata": {
  "kernelspec": {
   "display_name": ".venv",
   "language": "python",
   "name": "python3"
  },
  "language_info": {
   "codemirror_mode": {
    "name": "ipython",
    "version": 3
   },
   "file_extension": ".py",
   "mimetype": "text/x-python",
   "name": "python",
   "nbconvert_exporter": "python",
   "pygments_lexer": "ipython3",
   "version": "3.11.4"
  }
 },
 "nbformat": 4,
 "nbformat_minor": 2
}
